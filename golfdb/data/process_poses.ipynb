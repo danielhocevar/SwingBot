{
 "cells": [
  {
   "cell_type": "code",
   "execution_count": 1,
   "metadata": {},
   "outputs": [],
   "source": [
    "import pandas as pd\n",
    "import pickle\n",
    "import joblib\n",
    "# df = pd.read_pickle('poses/results/demo_TIGER_WOODS_THqn7IjaiEY_1c3e5a96-37ee-4fe4-8df9-1c97cea2cf67.pkl')\n",
    "\n",
    "# print(df.head())"
   ]
  },
  {
   "cell_type": "code",
   "execution_count": 24,
   "metadata": {},
   "outputs": [],
   "source": [
    "x = joblib.load('poses/results/demo_TIGER_WOODS_4HzLO88ryCU_6df7f5cc-68ee-40ca-a984-2c3e348767d8.pkl')\n",
    "\n",
    "#print(x['/home/daniel/development/csc2626/final-project/golfdb/data/poses//_DEMO/TIGER_WOODS_THqn7IjaiEY_1c3e5a96-37ee-4fe4-8df9-1c97cea2cf67/img/000001.jpg']['smpl'])"
   ]
  },
  {
   "cell_type": "code",
   "execution_count": null,
   "metadata": {},
   "outputs": [],
   "source": []
  },
  {
   "cell_type": "code",
   "execution_count": 25,
   "metadata": {},
   "outputs": [
    {
     "ename": "KeyError",
     "evalue": "'/home/daniel/development/csc2626/final-project/golfdb/data/poses//_DEMO/TIGER_WOODS_THqn7IjaiEY_1c3e5a96-37ee-4fe4-8df9-1c97cea2cf67/img/000001.jpg'",
     "output_type": "error",
     "traceback": [
      "\u001b[0;31m---------------------------------------------------------------------------\u001b[0m",
      "\u001b[0;31mKeyError\u001b[0m                                  Traceback (most recent call last)",
      "Cell \u001b[0;32mIn[25], line 1\u001b[0m\n\u001b[0;32m----> 1\u001b[0m joints \u001b[38;5;241m=\u001b[39m \u001b[43mx\u001b[49m\u001b[43m[\u001b[49m\u001b[38;5;124;43m'\u001b[39;49m\u001b[38;5;124;43m/home/daniel/development/csc2626/final-project/golfdb/data/poses//_DEMO/TIGER_WOODS_THqn7IjaiEY_1c3e5a96-37ee-4fe4-8df9-1c97cea2cf67/img/000001.jpg\u001b[39;49m\u001b[38;5;124;43m'\u001b[39;49m\u001b[43m]\u001b[49m[\u001b[38;5;124m'\u001b[39m\u001b[38;5;124m3d_joints\u001b[39m\u001b[38;5;124m'\u001b[39m]\n",
      "\u001b[0;31mKeyError\u001b[0m: '/home/daniel/development/csc2626/final-project/golfdb/data/poses//_DEMO/TIGER_WOODS_THqn7IjaiEY_1c3e5a96-37ee-4fe4-8df9-1c97cea2cf67/img/000001.jpg'"
     ]
    }
   ],
   "source": [
    "joints = x['/home/daniel/development/csc2626/final-project/golfdb/data/poses//_DEMO/TIGER_WOODS_THqn7IjaiEY_1c3e5a96-37ee-4fe4-8df9-1c97cea2cf67/img/000001.jpg']['3d_joints']"
   ]
  },
  {
   "cell_type": "code",
   "execution_count": 26,
   "metadata": {},
   "outputs": [
    {
     "name": "stdout",
     "output_type": "stream",
     "text": [
      "[np.float32(0.36228165), np.float32(0.17967466), np.float32(0.1195876), np.float32(0.114718094), np.float32(0.1759943), np.float32(0.20836842), np.float32(0.1900005), np.float32(0.18386453), np.float32(-0.07640551), np.float32(-0.124421865), np.float32(-0.09256014), np.float32(-0.1657294), np.float32(-0.06443825), np.float32(0.0395559), np.float32(0.0), np.float32(0.3512931), np.float32(0.3727303), np.float32(0.26055205), np.float32(0.3072085), np.float32(0.17847502), np.float32(0.15766636), np.float32(-0.054207664), np.float32(0.002620712), np.float32(-0.07616174), np.float32(-0.22520712)] [np.float32(0.5083344), np.float32(0.4515873), np.float32(0.59264475), np.float32(0.61323106), np.float32(0.55477476), np.float32(0.28295052), np.float32(0.20760264), np.float32(0.3076601), np.float32(0.31762087), np.float32(0.35320807), np.float32(0.40967855), np.float32(0.37313464), np.float32(0.23358613), np.float32(0.13377988), np.float32(0.0), np.float32(0.54341483), np.float32(0.48010138), np.float32(0.560459), np.float32(0.4203516), np.float32(0.050528318), np.float32(-0.028234571), np.float32(-0.03693199), np.float32(0.45005003), np.float32(0.48924047), np.float32(0.34502116)] [np.float32(-1.1820343), np.float32(-1.208756), np.float32(-1.1021259), np.float32(-0.8427869), np.float32(-0.59581804), np.float32(-1.1294528), np.float32(-0.87396264), np.float32(-0.639888), np.float32(-0.8207665), np.float32(-0.7256646), np.float32(-0.3374613), np.float32(0.06492835), np.float32(-0.7442044), np.float32(-0.38600144), np.float32(0.0), np.float32(-1.232081), np.float32(-1.2357123), np.float32(-1.2803123), np.float32(-1.2883604), np.float32(0.08717233), np.float32(0.066916645), np.float32(0.024315894), np.float32(0.15597278), np.float32(0.15628093), np.float32(0.0989427)]\n"
     ]
    },
    {
     "data": {
      "application/vnd.plotly.v1+json": {
       "config": {
        "plotlyServerURL": "https://plot.ly"
       },
       "data": [
        {
         "marker": {
          "color": [
           "red",
           "red",
           "red",
           "red",
           "red",
           "red",
           "red",
           "red",
           "red",
           "red",
           "red",
           "red",
           "red",
           "red",
           "red",
           "red",
           "red",
           "red",
           "red",
           "red",
           "red",
           "red",
           "red",
           "red",
           "red"
          ],
          "size": 5
         },
         "mode": "markers",
         "type": "scatter3d",
         "x": [
          0.3622816503047943,
          0.1796746551990509,
          0.11958760023117065,
          0.11471809446811676,
          0.17599430680274963,
          0.2083684206008911,
          0.1900005042552948,
          0.1838645339012146,
          -0.07640551030635834,
          -0.1244218647480011,
          -0.09256014227867126,
          -0.16572940349578857,
          -0.06443825364112854,
          0.03955589979887009,
          0,
          0.35129308700561523,
          0.3727303147315979,
          0.2605520486831665,
          0.30720850825309753,
          0.178475022315979,
          0.15766635537147522,
          -0.05420766398310661,
          0.002620711922645569,
          -0.07616174221038818,
          -0.22520712018013
         ],
         "y": [
          0.5083343982696533,
          0.4515872895717621,
          0.5926447510719299,
          0.6132310628890991,
          0.5547747611999512,
          0.2829505205154419,
          0.2076026350259781,
          0.3076601028442383,
          0.3176208734512329,
          0.353208065032959,
          0.40967854857444763,
          0.37313464283943176,
          0.2335861325263977,
          0.1337798833847046,
          0,
          0.543414831161499,
          0.4801013767719269,
          0.5604590177536011,
          0.4203515946865082,
          0.05052831768989563,
          -0.0282345712184906,
          -0.03693199157714844,
          0.45005002617836,
          0.48924046754837036,
          0.34502115845680237
         ],
         "z": [
          -1.1820342540740967,
          -1.2087559700012207,
          -1.102125883102417,
          -0.8427869081497192,
          -0.595818042755127,
          -1.1294528245925903,
          -0.8739626407623291,
          -0.6398879885673523,
          -0.8207665085792542,
          -0.7256646156311035,
          -0.33746129274368286,
          0.06492835283279419,
          -0.7442044019699097,
          -0.38600143790245056,
          0,
          -1.2320810556411743,
          -1.2357122898101807,
          -1.2803122997283936,
          -1.288360357284546,
          0.08717232942581177,
          0.06691664457321167,
          0.02431589365005493,
          0.15597277879714966,
          0.15628093481063843,
          0.09894269704818726
         ]
        },
        {
         "line": {
          "color": "blue",
          "width": 2
         },
         "mode": "lines",
         "name": "nose_to_neck",
         "type": "scatter3d",
         "x": [
          0.3622816503047943,
          0.1796746551990509
         ],
         "y": [
          0.5083343982696533,
          0.4515872895717621
         ],
         "z": [
          -1.1820342540740967,
          -1.2087559700012207
         ]
        },
        {
         "line": {
          "color": "blue",
          "width": 2
         },
         "mode": "lines",
         "name": "neck_to_rshoulder",
         "type": "scatter3d",
         "x": [
          0.1796746551990509,
          0.11958760023117065
         ],
         "y": [
          0.4515872895717621,
          0.5926447510719299
         ],
         "z": [
          -1.2087559700012207,
          -1.102125883102417
         ]
        },
        {
         "line": {
          "color": "blue",
          "width": 2
         },
         "mode": "lines",
         "name": "rshoulder_to_relbow",
         "type": "scatter3d",
         "x": [
          0.11958760023117065,
          0.11471809446811676
         ],
         "y": [
          0.5926447510719299,
          0.6132310628890991
         ],
         "z": [
          -1.102125883102417,
          -0.8427869081497192
         ]
        },
        {
         "line": {
          "color": "blue",
          "width": 2
         },
         "mode": "lines",
         "name": "relbow_to_rwrist",
         "type": "scatter3d",
         "x": [
          0.11471809446811676,
          0.17599430680274963
         ],
         "y": [
          0.6132310628890991,
          0.5547747611999512
         ],
         "z": [
          -0.8427869081497192,
          -0.595818042755127
         ]
        },
        {
         "line": {
          "color": "blue",
          "width": 2
         },
         "mode": "lines",
         "name": "neck_to_lshoulder",
         "type": "scatter3d",
         "x": [
          0.1796746551990509,
          0.2083684206008911
         ],
         "y": [
          0.4515872895717621,
          0.2829505205154419
         ],
         "z": [
          -1.2087559700012207,
          -1.1294528245925903
         ]
        },
        {
         "line": {
          "color": "blue",
          "width": 2
         },
         "mode": "lines",
         "name": "lshoulder_to_lelbow",
         "type": "scatter3d",
         "x": [
          0.2083684206008911,
          0.1900005042552948
         ],
         "y": [
          0.2829505205154419,
          0.2076026350259781
         ],
         "z": [
          -1.1294528245925903,
          -0.8739626407623291
         ]
        },
        {
         "line": {
          "color": "blue",
          "width": 2
         },
         "mode": "lines",
         "name": "lelbow_to_lwrist",
         "type": "scatter3d",
         "x": [
          0.1900005042552948,
          0.1838645339012146
         ],
         "y": [
          0.2076026350259781,
          0.3076601028442383
         ],
         "z": [
          -0.8739626407623291,
          -0.6398879885673523
         ]
        },
        {
         "line": {
          "color": "blue",
          "width": 2
         },
         "mode": "lines",
         "name": "neck_to_midhip",
         "type": "scatter3d",
         "x": [
          0.1796746551990509,
          -0.07640551030635834
         ],
         "y": [
          0.4515872895717621,
          0.3176208734512329
         ],
         "z": [
          -1.2087559700012207,
          -0.8207665085792542
         ]
        },
        {
         "line": {
          "color": "blue",
          "width": 2
         },
         "mode": "lines",
         "name": "midhip_to_rhip",
         "type": "scatter3d",
         "x": [
          -0.07640551030635834,
          -0.1244218647480011
         ],
         "y": [
          0.3176208734512329,
          0.353208065032959
         ],
         "z": [
          -0.8207665085792542,
          -0.7256646156311035
         ]
        },
        {
         "line": {
          "color": "blue",
          "width": 2
         },
         "mode": "lines",
         "name": "rhip_to_rknee",
         "type": "scatter3d",
         "x": [
          -0.1244218647480011,
          -0.09256014227867126
         ],
         "y": [
          0.353208065032959,
          0.40967854857444763
         ],
         "z": [
          -0.7256646156311035,
          -0.33746129274368286
         ]
        },
        {
         "line": {
          "color": "blue",
          "width": 2
         },
         "mode": "lines",
         "name": "rknee_to_rankle",
         "type": "scatter3d",
         "x": [
          -0.09256014227867126,
          -0.16572940349578857
         ],
         "y": [
          0.40967854857444763,
          0.37313464283943176
         ],
         "z": [
          -0.33746129274368286,
          0.06492835283279419
         ]
        },
        {
         "line": {
          "color": "blue",
          "width": 2
         },
         "mode": "lines",
         "name": "midhip_to_lhip",
         "type": "scatter3d",
         "x": [
          -0.07640551030635834,
          -0.06443825364112854
         ],
         "y": [
          0.3176208734512329,
          0.2335861325263977
         ],
         "z": [
          -0.8207665085792542,
          -0.7442044019699097
         ]
        },
        {
         "line": {
          "color": "blue",
          "width": 2
         },
         "mode": "lines",
         "name": "lhip_to_lknee",
         "type": "scatter3d",
         "x": [
          -0.06443825364112854,
          0.03955589979887009
         ],
         "y": [
          0.2335861325263977,
          0.1337798833847046
         ],
         "z": [
          -0.7442044019699097,
          -0.38600143790245056
         ]
        },
        {
         "line": {
          "color": "blue",
          "width": 2
         },
         "mode": "lines",
         "name": "lknee_to_lankle",
         "type": "scatter3d",
         "x": [
          0.03955589979887009,
          0
         ],
         "y": [
          0.1337798833847046,
          0
         ],
         "z": [
          -0.38600143790245056,
          0
         ]
        },
        {
         "line": {
          "color": "blue",
          "width": 2
         },
         "mode": "lines",
         "name": "nose_to_reye",
         "type": "scatter3d",
         "x": [
          0.3622816503047943,
          0.35129308700561523
         ],
         "y": [
          0.5083343982696533,
          0.543414831161499
         ],
         "z": [
          -1.1820342540740967,
          -1.2320810556411743
         ]
        },
        {
         "line": {
          "color": "blue",
          "width": 2
         },
         "mode": "lines",
         "name": "nose_to_leye",
         "type": "scatter3d",
         "x": [
          0.3622816503047943,
          0.3727303147315979
         ],
         "y": [
          0.5083343982696533,
          0.4801013767719269
         ],
         "z": [
          -1.1820342540740967,
          -1.2357122898101807
         ]
        },
        {
         "line": {
          "color": "blue",
          "width": 2
         },
         "mode": "lines",
         "name": "reye_to_rear",
         "type": "scatter3d",
         "x": [
          0.35129308700561523,
          0.2605520486831665
         ],
         "y": [
          0.543414831161499,
          0.5604590177536011
         ],
         "z": [
          -1.2320810556411743,
          -1.2803122997283936
         ]
        },
        {
         "line": {
          "color": "blue",
          "width": 2
         },
         "mode": "lines",
         "name": "leye_to_lear",
         "type": "scatter3d",
         "x": [
          0.3727303147315979,
          0.30720850825309753
         ],
         "y": [
          0.4801013767719269,
          0.4203515946865082
         ],
         "z": [
          -1.2357122898101807,
          -1.288360357284546
         ]
        },
        {
         "line": {
          "color": "blue",
          "width": 2
         },
         "mode": "lines",
         "name": "lankle_to_lbigtoe",
         "type": "scatter3d",
         "x": [
          0,
          0.178475022315979
         ],
         "y": [
          0,
          0.05052831768989563
         ],
         "z": [
          0,
          0.08717232942581177
         ]
        },
        {
         "line": {
          "color": "blue",
          "width": 2
         },
         "mode": "lines",
         "name": "lankle_to_lsmalltoe",
         "type": "scatter3d",
         "x": [
          0,
          0.15766635537147522
         ],
         "y": [
          0,
          -0.0282345712184906
         ],
         "z": [
          0,
          0.06691664457321167
         ]
        },
        {
         "line": {
          "color": "blue",
          "width": 2
         },
         "mode": "lines",
         "name": "lankle_to_lheel",
         "type": "scatter3d",
         "x": [
          0,
          -0.05420766398310661
         ],
         "y": [
          0,
          -0.03693199157714844
         ],
         "z": [
          0,
          0.02431589365005493
         ]
        },
        {
         "line": {
          "color": "blue",
          "width": 2
         },
         "mode": "lines",
         "name": "rankle_to_rbigtoe",
         "type": "scatter3d",
         "x": [
          -0.16572940349578857,
          0.002620711922645569
         ],
         "y": [
          0.37313464283943176,
          0.45005002617836
         ],
         "z": [
          0.06492835283279419,
          0.15597277879714966
         ]
        },
        {
         "line": {
          "color": "blue",
          "width": 2
         },
         "mode": "lines",
         "name": "rankle_to_rsmalltoe",
         "type": "scatter3d",
         "x": [
          -0.16572940349578857,
          -0.07616174221038818
         ],
         "y": [
          0.37313464283943176,
          0.48924046754837036
         ],
         "z": [
          0.06492835283279419,
          0.15628093481063843
         ]
        },
        {
         "line": {
          "color": "blue",
          "width": 2
         },
         "mode": "lines",
         "name": "rankle_to_rheel",
         "type": "scatter3d",
         "x": [
          -0.16572940349578857,
          -0.22520712018013
         ],
         "y": [
          0.37313464283943176,
          0.34502115845680237
         ],
         "z": [
          0.06492835283279419,
          0.09894269704818726
         ]
        }
       ],
       "layout": {
        "scene": {
         "xaxis": {
          "title": {
           "text": "X"
          }
         },
         "yaxis": {
          "title": {
           "text": "Y"
          }
         },
         "zaxis": {
          "title": {
           "text": "Z"
          }
         }
        },
        "template": {
         "data": {
          "bar": [
           {
            "error_x": {
             "color": "#2a3f5f"
            },
            "error_y": {
             "color": "#2a3f5f"
            },
            "marker": {
             "line": {
              "color": "#E5ECF6",
              "width": 0.5
             },
             "pattern": {
              "fillmode": "overlay",
              "size": 10,
              "solidity": 0.2
             }
            },
            "type": "bar"
           }
          ],
          "barpolar": [
           {
            "marker": {
             "line": {
              "color": "#E5ECF6",
              "width": 0.5
             },
             "pattern": {
              "fillmode": "overlay",
              "size": 10,
              "solidity": 0.2
             }
            },
            "type": "barpolar"
           }
          ],
          "carpet": [
           {
            "aaxis": {
             "endlinecolor": "#2a3f5f",
             "gridcolor": "white",
             "linecolor": "white",
             "minorgridcolor": "white",
             "startlinecolor": "#2a3f5f"
            },
            "baxis": {
             "endlinecolor": "#2a3f5f",
             "gridcolor": "white",
             "linecolor": "white",
             "minorgridcolor": "white",
             "startlinecolor": "#2a3f5f"
            },
            "type": "carpet"
           }
          ],
          "choropleth": [
           {
            "colorbar": {
             "outlinewidth": 0,
             "ticks": ""
            },
            "type": "choropleth"
           }
          ],
          "contour": [
           {
            "colorbar": {
             "outlinewidth": 0,
             "ticks": ""
            },
            "colorscale": [
             [
              0,
              "#0d0887"
             ],
             [
              0.1111111111111111,
              "#46039f"
             ],
             [
              0.2222222222222222,
              "#7201a8"
             ],
             [
              0.3333333333333333,
              "#9c179e"
             ],
             [
              0.4444444444444444,
              "#bd3786"
             ],
             [
              0.5555555555555556,
              "#d8576b"
             ],
             [
              0.6666666666666666,
              "#ed7953"
             ],
             [
              0.7777777777777778,
              "#fb9f3a"
             ],
             [
              0.8888888888888888,
              "#fdca26"
             ],
             [
              1,
              "#f0f921"
             ]
            ],
            "type": "contour"
           }
          ],
          "contourcarpet": [
           {
            "colorbar": {
             "outlinewidth": 0,
             "ticks": ""
            },
            "type": "contourcarpet"
           }
          ],
          "heatmap": [
           {
            "colorbar": {
             "outlinewidth": 0,
             "ticks": ""
            },
            "colorscale": [
             [
              0,
              "#0d0887"
             ],
             [
              0.1111111111111111,
              "#46039f"
             ],
             [
              0.2222222222222222,
              "#7201a8"
             ],
             [
              0.3333333333333333,
              "#9c179e"
             ],
             [
              0.4444444444444444,
              "#bd3786"
             ],
             [
              0.5555555555555556,
              "#d8576b"
             ],
             [
              0.6666666666666666,
              "#ed7953"
             ],
             [
              0.7777777777777778,
              "#fb9f3a"
             ],
             [
              0.8888888888888888,
              "#fdca26"
             ],
             [
              1,
              "#f0f921"
             ]
            ],
            "type": "heatmap"
           }
          ],
          "heatmapgl": [
           {
            "colorbar": {
             "outlinewidth": 0,
             "ticks": ""
            },
            "colorscale": [
             [
              0,
              "#0d0887"
             ],
             [
              0.1111111111111111,
              "#46039f"
             ],
             [
              0.2222222222222222,
              "#7201a8"
             ],
             [
              0.3333333333333333,
              "#9c179e"
             ],
             [
              0.4444444444444444,
              "#bd3786"
             ],
             [
              0.5555555555555556,
              "#d8576b"
             ],
             [
              0.6666666666666666,
              "#ed7953"
             ],
             [
              0.7777777777777778,
              "#fb9f3a"
             ],
             [
              0.8888888888888888,
              "#fdca26"
             ],
             [
              1,
              "#f0f921"
             ]
            ],
            "type": "heatmapgl"
           }
          ],
          "histogram": [
           {
            "marker": {
             "pattern": {
              "fillmode": "overlay",
              "size": 10,
              "solidity": 0.2
             }
            },
            "type": "histogram"
           }
          ],
          "histogram2d": [
           {
            "colorbar": {
             "outlinewidth": 0,
             "ticks": ""
            },
            "colorscale": [
             [
              0,
              "#0d0887"
             ],
             [
              0.1111111111111111,
              "#46039f"
             ],
             [
              0.2222222222222222,
              "#7201a8"
             ],
             [
              0.3333333333333333,
              "#9c179e"
             ],
             [
              0.4444444444444444,
              "#bd3786"
             ],
             [
              0.5555555555555556,
              "#d8576b"
             ],
             [
              0.6666666666666666,
              "#ed7953"
             ],
             [
              0.7777777777777778,
              "#fb9f3a"
             ],
             [
              0.8888888888888888,
              "#fdca26"
             ],
             [
              1,
              "#f0f921"
             ]
            ],
            "type": "histogram2d"
           }
          ],
          "histogram2dcontour": [
           {
            "colorbar": {
             "outlinewidth": 0,
             "ticks": ""
            },
            "colorscale": [
             [
              0,
              "#0d0887"
             ],
             [
              0.1111111111111111,
              "#46039f"
             ],
             [
              0.2222222222222222,
              "#7201a8"
             ],
             [
              0.3333333333333333,
              "#9c179e"
             ],
             [
              0.4444444444444444,
              "#bd3786"
             ],
             [
              0.5555555555555556,
              "#d8576b"
             ],
             [
              0.6666666666666666,
              "#ed7953"
             ],
             [
              0.7777777777777778,
              "#fb9f3a"
             ],
             [
              0.8888888888888888,
              "#fdca26"
             ],
             [
              1,
              "#f0f921"
             ]
            ],
            "type": "histogram2dcontour"
           }
          ],
          "mesh3d": [
           {
            "colorbar": {
             "outlinewidth": 0,
             "ticks": ""
            },
            "type": "mesh3d"
           }
          ],
          "parcoords": [
           {
            "line": {
             "colorbar": {
              "outlinewidth": 0,
              "ticks": ""
             }
            },
            "type": "parcoords"
           }
          ],
          "pie": [
           {
            "automargin": true,
            "type": "pie"
           }
          ],
          "scatter": [
           {
            "fillpattern": {
             "fillmode": "overlay",
             "size": 10,
             "solidity": 0.2
            },
            "type": "scatter"
           }
          ],
          "scatter3d": [
           {
            "line": {
             "colorbar": {
              "outlinewidth": 0,
              "ticks": ""
             }
            },
            "marker": {
             "colorbar": {
              "outlinewidth": 0,
              "ticks": ""
             }
            },
            "type": "scatter3d"
           }
          ],
          "scattercarpet": [
           {
            "marker": {
             "colorbar": {
              "outlinewidth": 0,
              "ticks": ""
             }
            },
            "type": "scattercarpet"
           }
          ],
          "scattergeo": [
           {
            "marker": {
             "colorbar": {
              "outlinewidth": 0,
              "ticks": ""
             }
            },
            "type": "scattergeo"
           }
          ],
          "scattergl": [
           {
            "marker": {
             "colorbar": {
              "outlinewidth": 0,
              "ticks": ""
             }
            },
            "type": "scattergl"
           }
          ],
          "scattermapbox": [
           {
            "marker": {
             "colorbar": {
              "outlinewidth": 0,
              "ticks": ""
             }
            },
            "type": "scattermapbox"
           }
          ],
          "scatterpolar": [
           {
            "marker": {
             "colorbar": {
              "outlinewidth": 0,
              "ticks": ""
             }
            },
            "type": "scatterpolar"
           }
          ],
          "scatterpolargl": [
           {
            "marker": {
             "colorbar": {
              "outlinewidth": 0,
              "ticks": ""
             }
            },
            "type": "scatterpolargl"
           }
          ],
          "scatterternary": [
           {
            "marker": {
             "colorbar": {
              "outlinewidth": 0,
              "ticks": ""
             }
            },
            "type": "scatterternary"
           }
          ],
          "surface": [
           {
            "colorbar": {
             "outlinewidth": 0,
             "ticks": ""
            },
            "colorscale": [
             [
              0,
              "#0d0887"
             ],
             [
              0.1111111111111111,
              "#46039f"
             ],
             [
              0.2222222222222222,
              "#7201a8"
             ],
             [
              0.3333333333333333,
              "#9c179e"
             ],
             [
              0.4444444444444444,
              "#bd3786"
             ],
             [
              0.5555555555555556,
              "#d8576b"
             ],
             [
              0.6666666666666666,
              "#ed7953"
             ],
             [
              0.7777777777777778,
              "#fb9f3a"
             ],
             [
              0.8888888888888888,
              "#fdca26"
             ],
             [
              1,
              "#f0f921"
             ]
            ],
            "type": "surface"
           }
          ],
          "table": [
           {
            "cells": {
             "fill": {
              "color": "#EBF0F8"
             },
             "line": {
              "color": "white"
             }
            },
            "header": {
             "fill": {
              "color": "#C8D4E3"
             },
             "line": {
              "color": "white"
             }
            },
            "type": "table"
           }
          ]
         },
         "layout": {
          "annotationdefaults": {
           "arrowcolor": "#2a3f5f",
           "arrowhead": 0,
           "arrowwidth": 1
          },
          "autotypenumbers": "strict",
          "coloraxis": {
           "colorbar": {
            "outlinewidth": 0,
            "ticks": ""
           }
          },
          "colorscale": {
           "diverging": [
            [
             0,
             "#8e0152"
            ],
            [
             0.1,
             "#c51b7d"
            ],
            [
             0.2,
             "#de77ae"
            ],
            [
             0.3,
             "#f1b6da"
            ],
            [
             0.4,
             "#fde0ef"
            ],
            [
             0.5,
             "#f7f7f7"
            ],
            [
             0.6,
             "#e6f5d0"
            ],
            [
             0.7,
             "#b8e186"
            ],
            [
             0.8,
             "#7fbc41"
            ],
            [
             0.9,
             "#4d9221"
            ],
            [
             1,
             "#276419"
            ]
           ],
           "sequential": [
            [
             0,
             "#0d0887"
            ],
            [
             0.1111111111111111,
             "#46039f"
            ],
            [
             0.2222222222222222,
             "#7201a8"
            ],
            [
             0.3333333333333333,
             "#9c179e"
            ],
            [
             0.4444444444444444,
             "#bd3786"
            ],
            [
             0.5555555555555556,
             "#d8576b"
            ],
            [
             0.6666666666666666,
             "#ed7953"
            ],
            [
             0.7777777777777778,
             "#fb9f3a"
            ],
            [
             0.8888888888888888,
             "#fdca26"
            ],
            [
             1,
             "#f0f921"
            ]
           ],
           "sequentialminus": [
            [
             0,
             "#0d0887"
            ],
            [
             0.1111111111111111,
             "#46039f"
            ],
            [
             0.2222222222222222,
             "#7201a8"
            ],
            [
             0.3333333333333333,
             "#9c179e"
            ],
            [
             0.4444444444444444,
             "#bd3786"
            ],
            [
             0.5555555555555556,
             "#d8576b"
            ],
            [
             0.6666666666666666,
             "#ed7953"
            ],
            [
             0.7777777777777778,
             "#fb9f3a"
            ],
            [
             0.8888888888888888,
             "#fdca26"
            ],
            [
             1,
             "#f0f921"
            ]
           ]
          },
          "colorway": [
           "#636efa",
           "#EF553B",
           "#00cc96",
           "#ab63fa",
           "#FFA15A",
           "#19d3f3",
           "#FF6692",
           "#B6E880",
           "#FF97FF",
           "#FECB52"
          ],
          "font": {
           "color": "#2a3f5f"
          },
          "geo": {
           "bgcolor": "white",
           "lakecolor": "white",
           "landcolor": "#E5ECF6",
           "showlakes": true,
           "showland": true,
           "subunitcolor": "white"
          },
          "hoverlabel": {
           "align": "left"
          },
          "hovermode": "closest",
          "mapbox": {
           "style": "light"
          },
          "paper_bgcolor": "white",
          "plot_bgcolor": "#E5ECF6",
          "polar": {
           "angularaxis": {
            "gridcolor": "white",
            "linecolor": "white",
            "ticks": ""
           },
           "bgcolor": "#E5ECF6",
           "radialaxis": {
            "gridcolor": "white",
            "linecolor": "white",
            "ticks": ""
           }
          },
          "scene": {
           "xaxis": {
            "backgroundcolor": "#E5ECF6",
            "gridcolor": "white",
            "gridwidth": 2,
            "linecolor": "white",
            "showbackground": true,
            "ticks": "",
            "zerolinecolor": "white"
           },
           "yaxis": {
            "backgroundcolor": "#E5ECF6",
            "gridcolor": "white",
            "gridwidth": 2,
            "linecolor": "white",
            "showbackground": true,
            "ticks": "",
            "zerolinecolor": "white"
           },
           "zaxis": {
            "backgroundcolor": "#E5ECF6",
            "gridcolor": "white",
            "gridwidth": 2,
            "linecolor": "white",
            "showbackground": true,
            "ticks": "",
            "zerolinecolor": "white"
           }
          },
          "shapedefaults": {
           "line": {
            "color": "#2a3f5f"
           }
          },
          "ternary": {
           "aaxis": {
            "gridcolor": "white",
            "linecolor": "white",
            "ticks": ""
           },
           "baxis": {
            "gridcolor": "white",
            "linecolor": "white",
            "ticks": ""
           },
           "bgcolor": "#E5ECF6",
           "caxis": {
            "gridcolor": "white",
            "linecolor": "white",
            "ticks": ""
           }
          },
          "title": {
           "x": 0.05
          },
          "xaxis": {
           "automargin": true,
           "gridcolor": "white",
           "linecolor": "white",
           "ticks": "",
           "title": {
            "standoff": 15
           },
           "zerolinecolor": "white",
           "zerolinewidth": 2
          },
          "yaxis": {
           "automargin": true,
           "gridcolor": "white",
           "linecolor": "white",
           "ticks": "",
           "title": {
            "standoff": 15
           },
           "zerolinecolor": "white",
           "zerolinewidth": 2
          }
         }
        }
       }
      }
     },
     "metadata": {},
     "output_type": "display_data"
    }
   ],
   "source": [
    "import plotly.graph_objects as go\n",
    "\n",
    "BONE_CONNECTIONS = {\n",
    "    'nose_to_neck': [0, 1],\n",
    "    'neck_to_rshoulder': [1, 2],\n",
    "    'rshoulder_to_relbow': [2, 3],\n",
    "    'relbow_to_rwrist': [3, 4],\n",
    "    'neck_to_lshoulder': [1, 5],\n",
    "    'lshoulder_to_lelbow': [5, 6],\n",
    "    'lelbow_to_lwrist': [6, 7],\n",
    "    'neck_to_midhip': [1, 8],\n",
    "    'midhip_to_rhip': [8, 9],\n",
    "    'rhip_to_rknee': [9, 10],\n",
    "    'rknee_to_rankle': [10, 11],\n",
    "    'midhip_to_lhip': [8, 12],\n",
    "    'lhip_to_lknee': [12, 13],\n",
    "    'lknee_to_lankle': [13, 14],\n",
    "    'nose_to_reye': [0, 15],\n",
    "    'nose_to_leye': [0, 16],\n",
    "    'reye_to_rear': [15, 17],\n",
    "    'leye_to_lear': [16, 18],\n",
    "    'lankle_to_lbigtoe': [14, 19],\n",
    "    'lankle_to_lsmalltoe': [14, 20],\n",
    "    'lankle_to_lheel': [14, 21],\n",
    "    'rankle_to_rbigtoe': [11, 22],\n",
    "    'rankle_to_rsmalltoe': [11, 23],\n",
    "    'rankle_to_rheel': [11, 24],\n",
    "}\n",
    "\n",
    "# Extract the 3D joint coordinates\n",
    "joints_3d = joints[0][:25]\n",
    "joints_3d[:, [0, 1, 2]] = joints_3d[:, [0,2,1]]  # Make the 3rd value be the first on the second axis\n",
    "joints_3d[:, 2] *= -1  # Make the 3rd value negative\n",
    "#joints_3d[:, 2] = -joints_3d[:, 2]  # Make the 3rd value negative\n",
    "# Subtract left foot position (left ankle) from all values\n",
    "left_foot_position = joints_3d[14]  # left ankle joint index is 14\n",
    "joints_3d -= left_foot_position\n",
    "\n",
    "# Create a 3D scatter plot\n",
    "\n",
    "x_coords = [joint[0] for joint in joints_3d]\n",
    "y_coords = [joint[1] for joint in joints_3d]\n",
    "z_coords = [joint[2] for joint in joints_3d]\n",
    "# x_coords = [1, 2, 3]\n",
    "# y_coords = [4, 5, 6]\n",
    "# z_coords = [7, 8, 9]\n",
    "\n",
    "print(x_coords, y_coords, z_coords)\n",
    "fig = go.Figure(data=[go.Scatter3d(\n",
    "    x=x_coords,\n",
    "    y=y_coords,\n",
    "    z=z_coords,\n",
    "    mode='markers',\n",
    "    marker=dict(\n",
    "        size=5,\n",
    "        color=['blue' if i == 44 else 'red' for i in range(len(joints_3d))],  # Color the 45th joint in blue\n",
    "    )\n",
    ")])\n",
    "\n",
    "# Add lines for each bone defined in BONE_CONNECTIONS\n",
    "for bone_name, (start_joint, end_joint) in BONE_CONNECTIONS.items():\n",
    "    fig.add_trace(go.Scatter3d(\n",
    "        x=[joints_3d[start_joint][0], joints_3d[end_joint][0]],\n",
    "        y=[joints_3d[start_joint][1], joints_3d[end_joint][1]],\n",
    "        z=[joints_3d[start_joint][2], joints_3d[end_joint][2]],\n",
    "        mode='lines',\n",
    "        line=dict(color='blue', width=2),\n",
    "        name=bone_name\n",
    "    ))\n",
    "\n",
    "\n",
    "\n",
    "# Set labels\n",
    "fig.update_layout(\n",
    "    scene=dict(\n",
    "        xaxis_title='X',\n",
    "        yaxis_title='Y',\n",
    "        zaxis_title='Z'\n",
    "    )\n",
    ")\n",
    "\n",
    "# Show the plot\n",
    "fig.show()\n"
   ]
  },
  {
   "cell_type": "code",
   "execution_count": 18,
   "metadata": {},
   "outputs": [
    {
     "data": {
      "text/plain": [
       "array([ 1.27593507,  0.38287012,  1.57079633,  1.72135675,  1.57079633,\n",
       "        1.75307994, -2.32419503,  1.82389793,  1.83986416,  0.04111815,\n",
       "        0.09699249,  1.17075716,  2.20494371,  1.87297198])"
      ]
     },
     "execution_count": 18,
     "metadata": {},
     "output_type": "execute_result"
    }
   ],
   "source": [
    "\n",
    "\n",
    "new_joints_3d = np.array([\n",
    "    joints_3d[1],  # OP Neck (torso)\n",
    "    joints_3d[0],  # OP Nose (head)\n",
    "    joints_3d[8],  # OP MidHip (lower_waist)\n",
    "    joints_3d[2],  # OP RShoulder (right_upper_arm)\n",
    "    joints_3d[5],  # OP LShoulder (left_upper_arm)\n",
    "    joints_3d[8],  # OP MidHip (pelvis)\n",
    "    joints_3d[3],  # OP RElbow (right_lower_arm)\n",
    "    joints_3d[6],  # OP LElbow (left_lower_arm)\n",
    "    joints_3d[9],  # OP RHip (right_thigh)\n",
    "    joints_3d[12], # OP LHip (left_thigh)\n",
    "    joints_3d[4],  # OP RWrist (right_hand)\n",
    "    joints_3d[7],  # OP LWrist (left_hand)\n",
    "    joints_3d[10], # OP RKnee (right_shin)\n",
    "    joints_3d[13], # OP LKnee (left_shin)\n",
    "    (0,0,0),          # Club (not available in JOINT_NAMES)\n",
    "    joints_3d[11], # OP RAnkle (right_foot)\n",
    "    joints_3d[14]  # OP LAnkle (left_foot)\n",
    "])\n",
    "\n",
    "compute_joint_angles(new_joints_3d)"
   ]
  },
  {
   "cell_type": "code",
   "execution_count": 9,
   "metadata": {},
   "outputs": [
    {
     "name": "stdout",
     "output_type": "stream",
     "text": [
      "45\n"
     ]
    }
   ],
   "source": [
    "JOINT_NAMES = [\n",
    "# 25 OpenPose joints (in the order provided by OpenPose)\n",
    "'OP Nose',\n",
    "'OP Neck',\n",
    "'OP RShoulder',\n",
    "'OP RElbow',\n",
    "'OP RWrist',\n",
    "'OP LShoulder',\n",
    "'OP LElbow',\n",
    "'OP LWrist',\n",
    "'OP MidHip',\n",
    "'OP RHip',\n",
    "'OP RKnee',\n",
    "'OP RAnkle',\n",
    "'OP LHip',\n",
    "'OP LKnee',\n",
    "'OP LAnkle',\n",
    "'OP REye',\n",
    "'OP LEye',\n",
    "'OP REar',\n",
    "'OP LEar',\n",
    "'OP LBigToe',\n",
    "'OP LSmallToe',\n",
    "'OP LHeel',\n",
    "'OP RBigToe',\n",
    "'OP RSmallToe',\n",
    "'OP RHeel',\n",
    "# 24 Ground Truth joints (superset of joints from different datasets)\n",
    "'Right Ankle',\n",
    "'Right Knee',\n",
    "'Right Hip',\n",
    "'Left Hip',\n",
    "'Left Knee',\n",
    "'Left Ankle',\n",
    "'Right Wrist',\n",
    "'Right Elbow',\n",
    "'Right Shoulder',\n",
    "'Left Shoulder',\n",
    "'Left Elbow',\n",
    "'Left Wrist',\n",
    "'Neck (LSP)',\n",
    "'Top of Head (LSP)',\n",
    "'Pelvis (MPII)',\n",
    "'Thorax (MPII)',\n",
    "'Spine (H36M)',\n",
    "'Jaw (H36M)',\n",
    "'Head (H36M)',\n",
    "'ROOT'\n",
    "]\n",
    "print(len(JOINT_NAMES))"
   ]
  },
  {
   "cell_type": "code",
   "execution_count": 6,
   "metadata": {},
   "outputs": [],
   "source": [
    "import numpy as np\n",
    "\n",
    "def compute_all_joint_angles(pose_array):\n",
    "    \"\"\"\n",
    "    Compute all joint angles from OpenPose joint positions to match Isaac Sim format\n",
    "    \n",
    "    Args:\n",
    "        pose_array: numpy array of shape (45, 3) containing joint positions\n",
    "        \n",
    "    Returns:\n",
    "        numpy array of shape (21,) matching initial_positions format\n",
    "    \"\"\"\n",
    "    # OpenPose indices\n",
    "    NECK_IDX = 1        # OP Neck\n",
    "    R_SHOULDER_IDX = 2  # OP RShoulder\n",
    "    R_ELBOW_IDX = 3    # OP RElbow\n",
    "    R_WRIST_IDX = 4    # OP RWrist\n",
    "    L_SHOULDER_IDX = 5  # OP LShoulder\n",
    "    L_ELBOW_IDX = 6    # OP LElbow\n",
    "    L_WRIST_IDX = 7    # OP LWrist\n",
    "    MID_HIP_IDX = 8    # OP MidHip\n",
    "    R_HIP_IDX = 9      # OP RHip\n",
    "    R_KNEE_IDX = 10    # OP RKnee\n",
    "    R_ANKLE_IDX = 11   # OP RAnkle\n",
    "    L_HIP_IDX = 12     # OP LHip\n",
    "    L_KNEE_IDX = 13    # OP LKnee\n",
    "    L_ANKLE_IDX = 14   # OP LAnkle\n",
    "    R_FOOT_IDX = 22    # OP RBigToe\n",
    "    L_FOOT_IDX = 19    # OP LBigToe\n",
    "    \n",
    "    def compute_waist_angles(neck, mid_hip):\n",
    "        # Calculate waist bend forward/backward and side-to-side\n",
    "        spine_vector = neck - mid_hip\n",
    "        spine_vector = spine_vector / np.linalg.norm(spine_vector)\n",
    "        \n",
    "        # Forward/backward bend (in sagittal plane)\n",
    "        sagittal_angle = np.arctan2(spine_vector[2], spine_vector[1])\n",
    "        \n",
    "        # Side-to-side bend (in coronal plane)\n",
    "        coronal_angle = np.arctan2(spine_vector[0], spine_vector[1])\n",
    "        \n",
    "        return sagittal_angle / np.pi, coronal_angle / np.pi\n",
    "    \n",
    "    def compute_arm_angles(shoulder_idx, elbow_idx, wrist_idx):\n",
    "        shoulder_pos = pose_array[shoulder_idx]\n",
    "        elbow_pos = pose_array[elbow_idx]\n",
    "        wrist_pos = pose_array[wrist_idx]\n",
    "        \n",
    "        spine = pose_array[NECK_IDX] - pose_array[MID_HIP_IDX]\n",
    "        shoulder_line = pose_array[R_SHOULDER_IDX] - pose_array[L_SHOULDER_IDX]\n",
    "        coronal_normal = np.cross(spine, shoulder_line)\n",
    "        coronal_normal = coronal_normal / np.linalg.norm(coronal_normal)\n",
    "        sagittal_normal = np.cross(coronal_normal, spine)\n",
    "        # Upper arm angles\n",
    "        upper_arm = elbow_pos - shoulder_pos\n",
    "        upper_arm = upper_arm / np.linalg.norm(upper_arm)\n",
    "        \n",
    "        # Abduction angle relative to coronal plane\n",
    "        abduction = np.arccos(np.dot(upper_arm, coronal_normal))\n",
    "        if np.dot(upper_arm, shoulder_line) < 0:  # Check if arm is moving away from body\n",
    "            abduction = -abduction\n",
    "            \n",
    "        # Flexion angle\n",
    "        flexion = np.arccos(np.dot(upper_arm, sagittal_normal))\n",
    "        # sagittal_projection = np.array([upper_arm[2], upper_arm[1]])\n",
    "        # sagittal_projection = sagittal_projection / np.linalg.norm(sagittal_projection)\n",
    "        # flexion = np.arccos(np.dot(sagittal_projection, [0, 1]))\n",
    "        # if upper_arm[2] < 0:\n",
    "        #     flexion = -flexion\n",
    "            \n",
    "        # Lower arm angle (elbow)\n",
    "        forearm = wrist_pos - elbow_pos\n",
    "        upper_arm = elbow_pos - shoulder_pos\n",
    "        elbow_angle = np.arccos(np.dot(forearm, upper_arm) / \n",
    "                               (np.linalg.norm(forearm) * np.linalg.norm(upper_arm)))\n",
    "        \n",
    "        return abduction, flexion, (elbow_angle)\n",
    "    \n",
    "    def compute_leg_angles(hip_idx, knee_idx, ankle_idx, foot_idx):\n",
    "        hip_pos = pose_array[hip_idx]\n",
    "        knee_pos = pose_array[knee_idx]\n",
    "        ankle_pos = pose_array[ankle_idx]\n",
    "        foot_pos = pose_array[foot_idx]\n",
    "        \n",
    "        # Thigh angles\n",
    "        thigh = knee_pos - hip_pos\n",
    "        thigh = thigh / np.linalg.norm(thigh)\n",
    "        \n",
    "        # Calculate three rotation angles for thigh\n",
    "        thigh_x = np.arctan2(thigh[2], thigh[1])  # forward/backward\n",
    "        thigh_y = np.arctan2(thigh[0], thigh[1])  # side-to-side\n",
    "        thigh_z = np.arctan2(thigh[0], thigh[2])  # rotation\n",
    "        \n",
    "        # Knee angle\n",
    "        shank = ankle_pos - knee_pos\n",
    "        knee_angle = np.arccos(np.dot(thigh, shank) /\n",
    "                             (np.linalg.norm(thigh) * np.linalg.norm(shank)))\n",
    "        \n",
    "        # Foot angles\n",
    "        foot = foot_pos - ankle_pos\n",
    "        foot_pitch = np.arctan2(foot[2], foot[1])  # up/down\n",
    "        foot_roll = np.arctan2(foot[0], foot[1])   # inversion/eversion\n",
    "        \n",
    "        return (thigh_x / np.pi, thigh_y / np.pi, thigh_z / np.pi, \n",
    "                knee_angle / np.pi, foot_pitch / np.pi, foot_roll / np.pi)\n",
    "    \n",
    "    # Calculate all angles\n",
    "    waist_sagittal, waist_coronal = compute_waist_angles(\n",
    "        pose_array[NECK_IDX], pose_array[MID_HIP_IDX])\n",
    "    \n",
    "    r_abd, r_flex, r_elbow = compute_arm_angles(\n",
    "        R_SHOULDER_IDX, R_ELBOW_IDX, R_WRIST_IDX)\n",
    "    l_abd, l_flex, l_elbow = compute_arm_angles(\n",
    "        L_SHOULDER_IDX, L_ELBOW_IDX, L_WRIST_IDX)\n",
    "    \n",
    "    pelvis_angle = np.arctan2(\n",
    "        pose_array[R_HIP_IDX][0] - pose_array[L_HIP_IDX][0],\n",
    "        pose_array[R_HIP_IDX][2] - pose_array[L_HIP_IDX][2]) / np.pi\n",
    "    \n",
    "    r_thigh_x, r_thigh_y, r_thigh_z, r_knee, r_foot_pitch, r_foot_roll = compute_leg_angles(\n",
    "        R_HIP_IDX, R_KNEE_IDX, R_ANKLE_IDX, R_FOOT_IDX)\n",
    "    l_thigh_x, l_thigh_y, l_thigh_z, l_knee, l_foot_pitch, l_foot_roll = compute_leg_angles(\n",
    "        L_HIP_IDX, L_KNEE_IDX, L_ANKLE_IDX, L_FOOT_IDX)\n",
    "    \n",
    "    # Assemble in the same order as initial_positions\n",
    "    return np.array([\n",
    "        waist_coronal,  # lower_waist\n",
    "        waist_sagittal,   # lower_waist\n",
    "        r_abd,          # right_upper_arm\n",
    "        r_flex,         # right_upper_arm\n",
    "        l_abd,          # left_upper_arm\n",
    "        l_flex,         # left_upper_arm\n",
    "        pelvis_angle,   # pelvis\n",
    "        r_elbow,        # right_lower_arm\n",
    "        l_elbow,        # left_lower_arm\n",
    "        r_thigh_x,      # right_thigh: x\n",
    "        r_thigh_y,      # right_thigh: y\n",
    "        r_thigh_z,      # right_thigh: z\n",
    "        l_thigh_x,      # left_thigh: x\n",
    "        l_thigh_y,      # left_thigh: y\n",
    "        l_thigh_z,      # left_thigh: z\n",
    "        r_knee,         # right_knee\n",
    "        l_knee,         # left_knee\n",
    "        r_foot_pitch,   # right_foot\n",
    "        r_foot_roll,    # right_foot\n",
    "        l_foot_pitch,   # left_foot\n",
    "        l_foot_roll,    # left_foot\n",
    "    ])\n",
    "\n",
    "# Example usage:\n",
    "# pose_data = np.random.rand(45, 3)  # Your pose data here\n",
    "# joint_angles = compute_all_joint_angles(pose_data)"
   ]
  },
  {
   "cell_type": "code",
   "execution_count": 7,
   "metadata": {},
   "outputs": [
    {
     "name": "stdout",
     "output_type": "stream",
     "text": [
      "[ 0.8143025  -0.89417243  0.9508878   1.4707422  -1.0989401   1.6311872\n",
      " -0.85204905  0.40094122  0.6913518  -0.04598082  0.0260668   0.836486\n",
      "  0.08649698  0.08993983  0.25654003  0.11140303  0.11913639 -0.22328617\n",
      "  0.34219608 -0.16721205  0.3553766 ]\n"
     ]
    }
   ],
   "source": [
    "joint_angles = compute_all_joint_angles(joints_3d)\n",
    "print(joint_angles)"
   ]
  },
  {
   "cell_type": "code",
   "execution_count": 7,
   "metadata": {},
   "outputs": [],
   "source": [
    "import numpy as np\n",
    "isaac_joint_ex = np.array([[[-6.3307e-02,  4.1133e-02,  1.0862e+00,  8.2588e-01,  4.2306e-02,\n",
    "           5.6173e-01, -2.4218e-02, -3.2339e-01,  1.3146e-01, -1.0134e-01,\n",
    "           1.8591e-01,  5.0460e-01, -2.2101e-02],\n",
    "         [ 1.1259e-01,  2.2687e-02,  1.1556e+00,  8.2588e-01,  4.2306e-02,\n",
    "           5.6173e-01, -2.4218e-02, -2.8213e-01,  1.1121e-01, -2.1674e-01,\n",
    "           1.8591e-01,  5.0460e-01, -2.2101e-02],\n",
    "         [-2.5426e-01,  6.1176e-02,  9.5980e-01,  9.9602e-01,  1.2835e-02,\n",
    "           5.0397e-02,  7.2358e-02, -3.5577e-01,  1.5930e-01, -2.6902e-02,\n",
    "           2.4795e-01,  1.2763e-01,  4.1328e-02],\n",
    "         [-2.2640e-02, -1.3388e-01,  1.1008e+00,  8.2717e-01,  3.5315e-01,\n",
    "           4.3171e-01,  6.8515e-02, -4.1392e-01,  1.5754e-01, -1.5356e-01,\n",
    "           2.4475e-01,  7.4676e-01, -4.8113e-03],\n",
    "         [ 7.1208e-03,  2.0450e-01,  1.1153e+00,  8.1802e-01, -1.3191e-01,\n",
    "           5.5824e-01, -4.2620e-02, -2.5521e-01,  1.2960e-01, -1.4447e-01,\n",
    "          -2.5006e-02, -2.7023e-01, -2.3035e-01],\n",
    "         [-2.6974e-01,  5.4893e-02,  7.9583e-01,  9.9563e-01, -3.3860e-02,\n",
    "           4.4935e-02,  7.4529e-02, -3.6865e-01,  1.4968e-01, -2.1715e-02,\n",
    "          -2.3476e-01,  5.6380e-02,  8.7674e-02],\n",
    "         [-8.3173e-02, -9.7493e-02,  7.9715e-01,  6.6653e-01,  1.9141e-01,\n",
    "           7.1758e-01, -6.4605e-02, -6.0180e-01,  2.1870e-01, -1.9162e-01,\n",
    "           2.4307e-01,  7.5047e-01, -4.0323e-03],\n",
    "         [-1.0610e-01,  3.0824e-01,  8.4400e-01,  6.5039e-01,  1.6765e-02,\n",
    "           7.4971e-01,  1.2101e-01, -1.8250e-01,  1.1743e-01, -1.3805e-01,\n",
    "          -2.5836e-02, -2.7134e-01, -2.3043e-01],\n",
    "         [-2.5797e-01, -4.6732e-02,  7.6215e-01,  9.6755e-01, -1.0398e-01,\n",
    "          -2.1086e-01,  9.2655e-02, -3.2300e-01,  1.2735e-01,  2.0599e-02,\n",
    "          -1.7400e-01, -2.3558e-01,  1.3588e-01],\n",
    "         [-2.8826e-01,  1.5059e-01,  7.5001e-01,  9.5321e-01,  8.0019e-03,\n",
    "          -2.8794e-01,  9.1777e-02, -3.9120e-01,  8.7349e-02, -5.4783e-02,\n",
    "          -2.6924e-01,  8.5775e-02, -1.3949e-01],\n",
    "         [ 1.4263e-01,  3.9141e-02,  6.3119e-01,  6.6653e-01,  1.9141e-01,\n",
    "           7.1758e-01, -6.4605e-02, -6.6380e-01,  2.3842e-01, -2.5975e-01,\n",
    "           2.4307e-01,  7.5047e-01, -4.0323e-03],\n",
    "         [ 6.6365e-02,  1.9521e-01,  6.1016e-01,  6.5039e-01,  1.6765e-02,\n",
    "           7.4971e-01,  1.2101e-01, -1.6380e-01,  9.4535e-02, -1.1319e-01,\n",
    "          -2.5836e-02, -2.7134e-01, -2.3043e-01],\n",
    "         [-9.9379e-02, -1.0447e-01,  4.0015e-01,  9.8507e-01, -1.2768e-01,\n",
    "           1.0125e-01,  5.5628e-02, -1.4282e-01,  8.1667e-02,  2.8256e-02,\n",
    "          -1.0259e-01, -7.4234e-01,  2.6256e-01],\n",
    "         [-7.2986e-02,  1.6679e-01,  4.1131e-01,  9.9121e-01, -1.0198e-02,\n",
    "          -9.4919e-02,  9.1559e-02, -2.0629e-01,  1.4250e-02, -2.8939e-02,\n",
    "          -3.5942e-02, -1.1914e+00, -9.0643e-02],\n",
    "         [ 8.5325e-02, -4.5011e-02,  9.3270e-01,  6.5039e-01,  1.6765e-02,\n",
    "           7.4971e-01,  1.2101e-01, -4.6299e-02, -1.6010e-02,  3.8042e-03,\n",
    "          -2.5836e-02, -2.7134e-01, -2.3043e-01],\n",
    "         [-1.5227e-01, -2.0182e-01,  2.8334e-02,  9.9016e-01, -1.0201e-01,\n",
    "          -1.9005e-02,  9.3868e-02, -4.7292e-03,  1.7406e-02,  2.8634e-02,\n",
    "          -5.2376e-01, -2.0127e-01, -3.3221e-02],\n",
    "         [-1.4144e-02,  1.6601e-01,  2.6956e-02,  9.9554e-01,  6.6397e-04,\n",
    "           3.7092e-04,  9.4339e-02, -5.3240e-03,  7.7487e-04,  1.1875e-02,\n",
    "          -6.1000e-02, -1.7204e-01, -5.9444e-03]]])"
   ]
  },
  {
   "cell_type": "code",
   "execution_count": 8,
   "metadata": {},
   "outputs": [
    {
     "data": {
      "text/plain": [
       "(17, 3)"
      ]
     },
     "execution_count": 8,
     "metadata": {},
     "output_type": "execute_result"
    }
   ],
   "source": [
    "isaac_joints_3d = isaac_joint_ex[0, :, :3]\n",
    "isaac_joints_3d.shape"
   ]
  },
  {
   "cell_type": "code",
   "execution_count": 15,
   "metadata": {},
   "outputs": [
    {
     "name": "stdout",
     "output_type": "stream",
     "text": [
      "[[-0.063307   0.041133   1.0862   ]\n",
      " [ 0.11259    0.022687   1.1556   ]\n",
      " [-0.25426    0.061176   0.9598   ]\n",
      " [-0.02264   -0.13388    1.1008   ]\n",
      " [ 0.0071208  0.2045     1.1153   ]\n",
      " [-0.26974    0.054893   0.79583  ]\n",
      " [-0.083173  -0.097493   0.79715  ]\n",
      " [-0.1061     0.30824    0.844    ]\n",
      " [-0.25797   -0.046732   0.76215  ]\n",
      " [-0.28826    0.15059    0.75001  ]\n",
      " [ 0.14263    0.039141   0.63119  ]\n",
      " [ 0.066365   0.19521    0.61016  ]\n",
      " [-0.099379  -0.10447    0.40015  ]\n",
      " [-0.072986   0.16679    0.41131  ]\n",
      " [ 0.085325  -0.045011   0.9327   ]\n",
      " [-0.15227   -0.20182    0.028334 ]\n",
      " [-0.014144   0.16601    0.026956 ]]\n",
      "[np.float64(-0.063307), np.float64(0.11259), np.float64(-0.25426), np.float64(-0.02264), np.float64(0.0071208), np.float64(-0.26974), np.float64(-0.083173), np.float64(-0.1061), np.float64(-0.25797), np.float64(-0.28826), np.float64(0.14263), np.float64(0.066365), np.float64(-0.099379), np.float64(-0.072986), np.float64(0.085325), np.float64(-0.15227), np.float64(-0.014144)] [np.float64(0.041133), np.float64(0.022687), np.float64(0.061176), np.float64(-0.13388), np.float64(0.2045), np.float64(0.054893), np.float64(-0.097493), np.float64(0.30824), np.float64(-0.046732), np.float64(0.15059), np.float64(0.039141), np.float64(0.19521), np.float64(-0.10447), np.float64(0.16679), np.float64(-0.045011), np.float64(-0.20182), np.float64(0.16601)] [np.float64(1.0862), np.float64(1.1556), np.float64(0.9598), np.float64(1.1008), np.float64(1.1153), np.float64(0.79583), np.float64(0.79715), np.float64(0.844), np.float64(0.76215), np.float64(0.75001), np.float64(0.63119), np.float64(0.61016), np.float64(0.40015), np.float64(0.41131), np.float64(0.9327), np.float64(0.028334), np.float64(0.026956)]\n"
     ]
    },
    {
     "data": {
      "application/vnd.plotly.v1+json": {
       "config": {
        "plotlyServerURL": "https://plot.ly"
       },
       "data": [
        {
         "marker": {
          "color": [
           "blue",
           "red",
           "red",
           "red",
           "red",
           "red",
           "red",
           "red",
           "red",
           "red",
           "red",
           "red",
           "red",
           "red",
           "red",
           "red",
           "red"
          ],
          "size": 5
         },
         "mode": "markers",
         "type": "scatter3d",
         "x": [
          -0.063307,
          0.11259,
          -0.25426,
          -0.02264,
          0.0071208,
          -0.26974,
          -0.083173,
          -0.1061,
          -0.25797,
          -0.28826,
          0.14263,
          0.066365,
          -0.099379,
          -0.072986,
          0.085325,
          -0.15227,
          -0.014144
         ],
         "y": [
          0.041133,
          0.022687,
          0.061176,
          -0.13388,
          0.2045,
          0.054893,
          -0.097493,
          0.30824,
          -0.046732,
          0.15059,
          0.039141,
          0.19521,
          -0.10447,
          0.16679,
          -0.045011,
          -0.20182,
          0.16601
         ],
         "z": [
          1.0862,
          1.1556,
          0.9598,
          1.1008,
          1.1153,
          0.79583,
          0.79715,
          0.844,
          0.76215,
          0.75001,
          0.63119,
          0.61016,
          0.40015,
          0.41131,
          0.9327,
          0.028334,
          0.026956
         ]
        },
        {
         "line": {
          "color": "blue",
          "width": 2
         },
         "mode": "lines",
         "name": "torso_to_head",
         "type": "scatter3d",
         "x": [
          -0.063307,
          0.11259
         ],
         "y": [
          0.041133,
          0.022687
         ],
         "z": [
          1.0862,
          1.1556
         ]
        },
        {
         "line": {
          "color": "blue",
          "width": 2
         },
         "mode": "lines",
         "name": "torso_to_lower_waist",
         "type": "scatter3d",
         "x": [
          -0.063307,
          -0.25426
         ],
         "y": [
          0.041133,
          0.061176
         ],
         "z": [
          1.0862,
          0.9598
         ]
        },
        {
         "line": {
          "color": "blue",
          "width": 2
         },
         "mode": "lines",
         "name": "torso_to_right_upper_arm",
         "type": "scatter3d",
         "x": [
          -0.063307,
          -0.02264
         ],
         "y": [
          0.041133,
          -0.13388
         ],
         "z": [
          1.0862,
          1.1008
         ]
        },
        {
         "line": {
          "color": "blue",
          "width": 2
         },
         "mode": "lines",
         "name": "torso_to_left_upper_arm",
         "type": "scatter3d",
         "x": [
          -0.063307,
          0.0071208
         ],
         "y": [
          0.041133,
          0.2045
         ],
         "z": [
          1.0862,
          1.1153
         ]
        },
        {
         "line": {
          "color": "blue",
          "width": 2
         },
         "mode": "lines",
         "name": "lower_waist_to_pelvis",
         "type": "scatter3d",
         "x": [
          -0.25426,
          -0.26974
         ],
         "y": [
          0.061176,
          0.054893
         ],
         "z": [
          0.9598,
          0.79583
         ]
        },
        {
         "line": {
          "color": "blue",
          "width": 2
         },
         "mode": "lines",
         "name": "right_upper_arm_to_right_lower_arm",
         "type": "scatter3d",
         "x": [
          -0.02264,
          -0.083173
         ],
         "y": [
          -0.13388,
          -0.097493
         ],
         "z": [
          1.1008,
          0.79715
         ]
        },
        {
         "line": {
          "color": "blue",
          "width": 2
         },
         "mode": "lines",
         "name": "left_upper_arm_to_left_lower_arm",
         "type": "scatter3d",
         "x": [
          0.0071208,
          -0.1061
         ],
         "y": [
          0.2045,
          0.30824
         ],
         "z": [
          1.1153,
          0.844
         ]
        },
        {
         "line": {
          "color": "blue",
          "width": 2
         },
         "mode": "lines",
         "name": "right_lower_arm_to_right_hand",
         "type": "scatter3d",
         "x": [
          -0.083173,
          0.14263
         ],
         "y": [
          -0.097493,
          0.039141
         ],
         "z": [
          0.79715,
          0.63119
         ]
        },
        {
         "line": {
          "color": "blue",
          "width": 2
         },
         "mode": "lines",
         "name": "left_lower_arm_to_left_hand",
         "type": "scatter3d",
         "x": [
          -0.1061,
          0.066365
         ],
         "y": [
          0.30824,
          0.19521
         ],
         "z": [
          0.844,
          0.61016
         ]
        },
        {
         "line": {
          "color": "blue",
          "width": 2
         },
         "mode": "lines",
         "name": "pelvis_to_right_thigh",
         "type": "scatter3d",
         "x": [
          -0.26974,
          -0.25797
         ],
         "y": [
          0.054893,
          -0.046732
         ],
         "z": [
          0.79583,
          0.76215
         ]
        },
        {
         "line": {
          "color": "blue",
          "width": 2
         },
         "mode": "lines",
         "name": "pelvis_to_left_thigh",
         "type": "scatter3d",
         "x": [
          -0.26974,
          -0.28826
         ],
         "y": [
          0.054893,
          0.15059
         ],
         "z": [
          0.79583,
          0.75001
         ]
        },
        {
         "line": {
          "color": "blue",
          "width": 2
         },
         "mode": "lines",
         "name": "right_thigh_to_right_shin",
         "type": "scatter3d",
         "x": [
          -0.25797,
          -0.099379
         ],
         "y": [
          -0.046732,
          -0.10447
         ],
         "z": [
          0.76215,
          0.40015
         ]
        },
        {
         "line": {
          "color": "blue",
          "width": 2
         },
         "mode": "lines",
         "name": "left_thigh_to_left_shin",
         "type": "scatter3d",
         "x": [
          -0.28826,
          -0.072986
         ],
         "y": [
          0.15059,
          0.16679
         ],
         "z": [
          0.75001,
          0.41131
         ]
        },
        {
         "line": {
          "color": "blue",
          "width": 2
         },
         "mode": "lines",
         "name": "right_shin_to_right_foot",
         "type": "scatter3d",
         "x": [
          -0.099379,
          -0.15227
         ],
         "y": [
          -0.10447,
          -0.20182
         ],
         "z": [
          0.40015,
          0.028334
         ]
        },
        {
         "line": {
          "color": "blue",
          "width": 2
         },
         "mode": "lines",
         "name": "left_shin_to_left_foot",
         "type": "scatter3d",
         "x": [
          -0.072986,
          -0.014144
         ],
         "y": [
          0.16679,
          0.16601
         ],
         "z": [
          0.41131,
          0.026956
         ]
        }
       ],
       "layout": {
        "scene": {
         "xaxis": {
          "title": {
           "text": "X"
          }
         },
         "yaxis": {
          "title": {
           "text": "Y"
          }
         },
         "zaxis": {
          "title": {
           "text": "Z"
          }
         }
        },
        "template": {
         "data": {
          "bar": [
           {
            "error_x": {
             "color": "#2a3f5f"
            },
            "error_y": {
             "color": "#2a3f5f"
            },
            "marker": {
             "line": {
              "color": "#E5ECF6",
              "width": 0.5
             },
             "pattern": {
              "fillmode": "overlay",
              "size": 10,
              "solidity": 0.2
             }
            },
            "type": "bar"
           }
          ],
          "barpolar": [
           {
            "marker": {
             "line": {
              "color": "#E5ECF6",
              "width": 0.5
             },
             "pattern": {
              "fillmode": "overlay",
              "size": 10,
              "solidity": 0.2
             }
            },
            "type": "barpolar"
           }
          ],
          "carpet": [
           {
            "aaxis": {
             "endlinecolor": "#2a3f5f",
             "gridcolor": "white",
             "linecolor": "white",
             "minorgridcolor": "white",
             "startlinecolor": "#2a3f5f"
            },
            "baxis": {
             "endlinecolor": "#2a3f5f",
             "gridcolor": "white",
             "linecolor": "white",
             "minorgridcolor": "white",
             "startlinecolor": "#2a3f5f"
            },
            "type": "carpet"
           }
          ],
          "choropleth": [
           {
            "colorbar": {
             "outlinewidth": 0,
             "ticks": ""
            },
            "type": "choropleth"
           }
          ],
          "contour": [
           {
            "colorbar": {
             "outlinewidth": 0,
             "ticks": ""
            },
            "colorscale": [
             [
              0,
              "#0d0887"
             ],
             [
              0.1111111111111111,
              "#46039f"
             ],
             [
              0.2222222222222222,
              "#7201a8"
             ],
             [
              0.3333333333333333,
              "#9c179e"
             ],
             [
              0.4444444444444444,
              "#bd3786"
             ],
             [
              0.5555555555555556,
              "#d8576b"
             ],
             [
              0.6666666666666666,
              "#ed7953"
             ],
             [
              0.7777777777777778,
              "#fb9f3a"
             ],
             [
              0.8888888888888888,
              "#fdca26"
             ],
             [
              1,
              "#f0f921"
             ]
            ],
            "type": "contour"
           }
          ],
          "contourcarpet": [
           {
            "colorbar": {
             "outlinewidth": 0,
             "ticks": ""
            },
            "type": "contourcarpet"
           }
          ],
          "heatmap": [
           {
            "colorbar": {
             "outlinewidth": 0,
             "ticks": ""
            },
            "colorscale": [
             [
              0,
              "#0d0887"
             ],
             [
              0.1111111111111111,
              "#46039f"
             ],
             [
              0.2222222222222222,
              "#7201a8"
             ],
             [
              0.3333333333333333,
              "#9c179e"
             ],
             [
              0.4444444444444444,
              "#bd3786"
             ],
             [
              0.5555555555555556,
              "#d8576b"
             ],
             [
              0.6666666666666666,
              "#ed7953"
             ],
             [
              0.7777777777777778,
              "#fb9f3a"
             ],
             [
              0.8888888888888888,
              "#fdca26"
             ],
             [
              1,
              "#f0f921"
             ]
            ],
            "type": "heatmap"
           }
          ],
          "heatmapgl": [
           {
            "colorbar": {
             "outlinewidth": 0,
             "ticks": ""
            },
            "colorscale": [
             [
              0,
              "#0d0887"
             ],
             [
              0.1111111111111111,
              "#46039f"
             ],
             [
              0.2222222222222222,
              "#7201a8"
             ],
             [
              0.3333333333333333,
              "#9c179e"
             ],
             [
              0.4444444444444444,
              "#bd3786"
             ],
             [
              0.5555555555555556,
              "#d8576b"
             ],
             [
              0.6666666666666666,
              "#ed7953"
             ],
             [
              0.7777777777777778,
              "#fb9f3a"
             ],
             [
              0.8888888888888888,
              "#fdca26"
             ],
             [
              1,
              "#f0f921"
             ]
            ],
            "type": "heatmapgl"
           }
          ],
          "histogram": [
           {
            "marker": {
             "pattern": {
              "fillmode": "overlay",
              "size": 10,
              "solidity": 0.2
             }
            },
            "type": "histogram"
           }
          ],
          "histogram2d": [
           {
            "colorbar": {
             "outlinewidth": 0,
             "ticks": ""
            },
            "colorscale": [
             [
              0,
              "#0d0887"
             ],
             [
              0.1111111111111111,
              "#46039f"
             ],
             [
              0.2222222222222222,
              "#7201a8"
             ],
             [
              0.3333333333333333,
              "#9c179e"
             ],
             [
              0.4444444444444444,
              "#bd3786"
             ],
             [
              0.5555555555555556,
              "#d8576b"
             ],
             [
              0.6666666666666666,
              "#ed7953"
             ],
             [
              0.7777777777777778,
              "#fb9f3a"
             ],
             [
              0.8888888888888888,
              "#fdca26"
             ],
             [
              1,
              "#f0f921"
             ]
            ],
            "type": "histogram2d"
           }
          ],
          "histogram2dcontour": [
           {
            "colorbar": {
             "outlinewidth": 0,
             "ticks": ""
            },
            "colorscale": [
             [
              0,
              "#0d0887"
             ],
             [
              0.1111111111111111,
              "#46039f"
             ],
             [
              0.2222222222222222,
              "#7201a8"
             ],
             [
              0.3333333333333333,
              "#9c179e"
             ],
             [
              0.4444444444444444,
              "#bd3786"
             ],
             [
              0.5555555555555556,
              "#d8576b"
             ],
             [
              0.6666666666666666,
              "#ed7953"
             ],
             [
              0.7777777777777778,
              "#fb9f3a"
             ],
             [
              0.8888888888888888,
              "#fdca26"
             ],
             [
              1,
              "#f0f921"
             ]
            ],
            "type": "histogram2dcontour"
           }
          ],
          "mesh3d": [
           {
            "colorbar": {
             "outlinewidth": 0,
             "ticks": ""
            },
            "type": "mesh3d"
           }
          ],
          "parcoords": [
           {
            "line": {
             "colorbar": {
              "outlinewidth": 0,
              "ticks": ""
             }
            },
            "type": "parcoords"
           }
          ],
          "pie": [
           {
            "automargin": true,
            "type": "pie"
           }
          ],
          "scatter": [
           {
            "fillpattern": {
             "fillmode": "overlay",
             "size": 10,
             "solidity": 0.2
            },
            "type": "scatter"
           }
          ],
          "scatter3d": [
           {
            "line": {
             "colorbar": {
              "outlinewidth": 0,
              "ticks": ""
             }
            },
            "marker": {
             "colorbar": {
              "outlinewidth": 0,
              "ticks": ""
             }
            },
            "type": "scatter3d"
           }
          ],
          "scattercarpet": [
           {
            "marker": {
             "colorbar": {
              "outlinewidth": 0,
              "ticks": ""
             }
            },
            "type": "scattercarpet"
           }
          ],
          "scattergeo": [
           {
            "marker": {
             "colorbar": {
              "outlinewidth": 0,
              "ticks": ""
             }
            },
            "type": "scattergeo"
           }
          ],
          "scattergl": [
           {
            "marker": {
             "colorbar": {
              "outlinewidth": 0,
              "ticks": ""
             }
            },
            "type": "scattergl"
           }
          ],
          "scattermapbox": [
           {
            "marker": {
             "colorbar": {
              "outlinewidth": 0,
              "ticks": ""
             }
            },
            "type": "scattermapbox"
           }
          ],
          "scatterpolar": [
           {
            "marker": {
             "colorbar": {
              "outlinewidth": 0,
              "ticks": ""
             }
            },
            "type": "scatterpolar"
           }
          ],
          "scatterpolargl": [
           {
            "marker": {
             "colorbar": {
              "outlinewidth": 0,
              "ticks": ""
             }
            },
            "type": "scatterpolargl"
           }
          ],
          "scatterternary": [
           {
            "marker": {
             "colorbar": {
              "outlinewidth": 0,
              "ticks": ""
             }
            },
            "type": "scatterternary"
           }
          ],
          "surface": [
           {
            "colorbar": {
             "outlinewidth": 0,
             "ticks": ""
            },
            "colorscale": [
             [
              0,
              "#0d0887"
             ],
             [
              0.1111111111111111,
              "#46039f"
             ],
             [
              0.2222222222222222,
              "#7201a8"
             ],
             [
              0.3333333333333333,
              "#9c179e"
             ],
             [
              0.4444444444444444,
              "#bd3786"
             ],
             [
              0.5555555555555556,
              "#d8576b"
             ],
             [
              0.6666666666666666,
              "#ed7953"
             ],
             [
              0.7777777777777778,
              "#fb9f3a"
             ],
             [
              0.8888888888888888,
              "#fdca26"
             ],
             [
              1,
              "#f0f921"
             ]
            ],
            "type": "surface"
           }
          ],
          "table": [
           {
            "cells": {
             "fill": {
              "color": "#EBF0F8"
             },
             "line": {
              "color": "white"
             }
            },
            "header": {
             "fill": {
              "color": "#C8D4E3"
             },
             "line": {
              "color": "white"
             }
            },
            "type": "table"
           }
          ]
         },
         "layout": {
          "annotationdefaults": {
           "arrowcolor": "#2a3f5f",
           "arrowhead": 0,
           "arrowwidth": 1
          },
          "autotypenumbers": "strict",
          "coloraxis": {
           "colorbar": {
            "outlinewidth": 0,
            "ticks": ""
           }
          },
          "colorscale": {
           "diverging": [
            [
             0,
             "#8e0152"
            ],
            [
             0.1,
             "#c51b7d"
            ],
            [
             0.2,
             "#de77ae"
            ],
            [
             0.3,
             "#f1b6da"
            ],
            [
             0.4,
             "#fde0ef"
            ],
            [
             0.5,
             "#f7f7f7"
            ],
            [
             0.6,
             "#e6f5d0"
            ],
            [
             0.7,
             "#b8e186"
            ],
            [
             0.8,
             "#7fbc41"
            ],
            [
             0.9,
             "#4d9221"
            ],
            [
             1,
             "#276419"
            ]
           ],
           "sequential": [
            [
             0,
             "#0d0887"
            ],
            [
             0.1111111111111111,
             "#46039f"
            ],
            [
             0.2222222222222222,
             "#7201a8"
            ],
            [
             0.3333333333333333,
             "#9c179e"
            ],
            [
             0.4444444444444444,
             "#bd3786"
            ],
            [
             0.5555555555555556,
             "#d8576b"
            ],
            [
             0.6666666666666666,
             "#ed7953"
            ],
            [
             0.7777777777777778,
             "#fb9f3a"
            ],
            [
             0.8888888888888888,
             "#fdca26"
            ],
            [
             1,
             "#f0f921"
            ]
           ],
           "sequentialminus": [
            [
             0,
             "#0d0887"
            ],
            [
             0.1111111111111111,
             "#46039f"
            ],
            [
             0.2222222222222222,
             "#7201a8"
            ],
            [
             0.3333333333333333,
             "#9c179e"
            ],
            [
             0.4444444444444444,
             "#bd3786"
            ],
            [
             0.5555555555555556,
             "#d8576b"
            ],
            [
             0.6666666666666666,
             "#ed7953"
            ],
            [
             0.7777777777777778,
             "#fb9f3a"
            ],
            [
             0.8888888888888888,
             "#fdca26"
            ],
            [
             1,
             "#f0f921"
            ]
           ]
          },
          "colorway": [
           "#636efa",
           "#EF553B",
           "#00cc96",
           "#ab63fa",
           "#FFA15A",
           "#19d3f3",
           "#FF6692",
           "#B6E880",
           "#FF97FF",
           "#FECB52"
          ],
          "font": {
           "color": "#2a3f5f"
          },
          "geo": {
           "bgcolor": "white",
           "lakecolor": "white",
           "landcolor": "#E5ECF6",
           "showlakes": true,
           "showland": true,
           "subunitcolor": "white"
          },
          "hoverlabel": {
           "align": "left"
          },
          "hovermode": "closest",
          "mapbox": {
           "style": "light"
          },
          "paper_bgcolor": "white",
          "plot_bgcolor": "#E5ECF6",
          "polar": {
           "angularaxis": {
            "gridcolor": "white",
            "linecolor": "white",
            "ticks": ""
           },
           "bgcolor": "#E5ECF6",
           "radialaxis": {
            "gridcolor": "white",
            "linecolor": "white",
            "ticks": ""
           }
          },
          "scene": {
           "xaxis": {
            "backgroundcolor": "#E5ECF6",
            "gridcolor": "white",
            "gridwidth": 2,
            "linecolor": "white",
            "showbackground": true,
            "ticks": "",
            "zerolinecolor": "white"
           },
           "yaxis": {
            "backgroundcolor": "#E5ECF6",
            "gridcolor": "white",
            "gridwidth": 2,
            "linecolor": "white",
            "showbackground": true,
            "ticks": "",
            "zerolinecolor": "white"
           },
           "zaxis": {
            "backgroundcolor": "#E5ECF6",
            "gridcolor": "white",
            "gridwidth": 2,
            "linecolor": "white",
            "showbackground": true,
            "ticks": "",
            "zerolinecolor": "white"
           }
          },
          "shapedefaults": {
           "line": {
            "color": "#2a3f5f"
           }
          },
          "ternary": {
           "aaxis": {
            "gridcolor": "white",
            "linecolor": "white",
            "ticks": ""
           },
           "baxis": {
            "gridcolor": "white",
            "linecolor": "white",
            "ticks": ""
           },
           "bgcolor": "#E5ECF6",
           "caxis": {
            "gridcolor": "white",
            "linecolor": "white",
            "ticks": ""
           }
          },
          "title": {
           "x": 0.05
          },
          "xaxis": {
           "automargin": true,
           "gridcolor": "white",
           "linecolor": "white",
           "ticks": "",
           "title": {
            "standoff": 15
           },
           "zerolinecolor": "white",
           "zerolinewidth": 2
          },
          "yaxis": {
           "automargin": true,
           "gridcolor": "white",
           "linecolor": "white",
           "ticks": "",
           "title": {
            "standoff": 15
           },
           "zerolinecolor": "white",
           "zerolinewidth": 2
          }
         }
        }
       }
      }
     },
     "metadata": {},
     "output_type": "display_data"
    }
   ],
   "source": [
    "import plotly.graph_objects as go\n",
    "\n",
    "BONE_CONNECTIONS = {\n",
    "    'torso_to_head': [0, 1],\n",
    "    'torso_to_lower_waist': [0, 2],\n",
    "    'torso_to_right_upper_arm': [0, 3],\n",
    "    'torso_to_left_upper_arm': [0, 4],\n",
    "    'lower_waist_to_pelvis': [2, 5],\n",
    "    'right_upper_arm_to_right_lower_arm': [3, 6],\n",
    "    'left_upper_arm_to_left_lower_arm': [4, 7],\n",
    "    'right_lower_arm_to_right_hand': [6, 10],\n",
    "    'left_lower_arm_to_left_hand': [7, 11],\n",
    "    'pelvis_to_right_thigh': [5, 8],\n",
    "    'pelvis_to_left_thigh': [5, 9],\n",
    "    'right_thigh_to_right_shin': [8, 12],\n",
    "    'left_thigh_to_left_shin': [9, 13],\n",
    "    'right_shin_to_right_foot': [12, 15],\n",
    "    'left_shin_to_left_foot': [13, 16],  # Assuming Club is held in the right hand\n",
    "}\n",
    "\n",
    "# Extract the 3D joint coordinates\n",
    "print(isaac_joints_3d)\n",
    "joints_3d = isaac_joints_3d  # joints[0][:25]\n",
    "\n",
    "# Create a 3D scatter plot\n",
    "# print(joints_3d)\n",
    "# print(len(joints_3d))\n",
    "x_coords = [joint[0] for joint in joints_3d]\n",
    "y_coords = [joint[1] for joint in joints_3d]\n",
    "z_coords = [joint[2] for joint in joints_3d]\n",
    "# x_coords = [1, 2, 3]\n",
    "# y_coords = [4, 5, 6]\n",
    "# z_coords = [7, 8, 9]\n",
    "\n",
    "print(x_coords, y_coords, z_coords)\n",
    "fig = go.Figure(data=[go.Scatter3d(\n",
    "    x=x_coords,\n",
    "    y=y_coords,\n",
    "    z=z_coords,\n",
    "    mode='markers',\n",
    "    marker=dict(\n",
    "        size=5,\n",
    "        color=['blue' if i == 0 else 'red' for i in range(len(joints_3d))],  # Color the 45th joint in blue\n",
    "    )\n",
    ")])\n",
    "\n",
    "# # Add lines for each bone defined in BONE_CONNECTIONS\n",
    "for bone_name, (start_joint, end_joint) in BONE_CONNECTIONS.items():\n",
    "    fig.add_trace(go.Scatter3d(\n",
    "        x=[joints_3d[start_joint][0], joints_3d[end_joint][0]],\n",
    "        y=[joints_3d[start_joint][1], joints_3d[end_joint][1]],\n",
    "        z=[joints_3d[start_joint][2], joints_3d[end_joint][2]],\n",
    "        mode='lines',\n",
    "        line=dict(color='blue', width=2),\n",
    "        name=bone_name\n",
    "    ))\n",
    "\n",
    "\n",
    "\n",
    "# Set labels\n",
    "fig.update_layout(\n",
    "    scene=dict(\n",
    "        xaxis_title='X',\n",
    "        yaxis_title='Y',\n",
    "        zaxis_title='Z'\n",
    "    )\n",
    ")\n",
    "\n",
    "# Show the plot\n",
    "fig.show()\n"
   ]
  },
  {
   "cell_type": "code",
   "execution_count": 10,
   "metadata": {},
   "outputs": [],
   "source": [
    "isaac_joint_names = ['lower_waist', 'lower_waist', 'right_upper_arm', 'left_upper_arm', 'pelvis', 'right_lower_arm', 'left_lower_arm', 'right_thigh', 'left_thigh', 'right_shin', 'left_shin', 'right_foot', 'left_foot']\n"
   ]
  },
  {
   "cell_type": "code",
   "execution_count": 11,
   "metadata": {},
   "outputs": [
    {
     "data": {
      "text/plain": [
       "13"
      ]
     },
     "execution_count": 11,
     "metadata": {},
     "output_type": "execute_result"
    }
   ],
   "source": [
    "len(isaac_joint_names)"
   ]
  },
  {
   "cell_type": "code",
   "execution_count": 19,
   "metadata": {},
   "outputs": [
    {
     "name": "stdout",
     "output_type": "stream",
     "text": [
      "[ 1.83058242  1.67528261  1.57079633  1.7305368   1.57079633  1.70939749\n",
      " -1.72896134  1.91994901  2.7286815  -1.52300281  1.49568497  2.57541498\n",
      "  1.71370235  2.2415169 ]\n"
     ]
    }
   ],
   "source": [
    "def get_waist_angles(neck, mid_hip, base, left_knee, right_knee):\n",
    "    spine = neck - mid_hip\n",
    "    vertical = base - mid_hip\n",
    "    vertical = base_spine / np.linalg.norm(base_spine)\n",
    "    horizontal = left_knee - right_knee\n",
    "    horizontal = horizontal / np.linalg.norm(horizontal)\n",
    "\n",
    "    # Normalize the length of the spine vector\n",
    "    spine = spine / np.linalg.norm(spine)\n",
    "    \n",
    "    # Forward/backward bend (in sagittal plane)\n",
    "\n",
    "    # Opposite over adjacent (z over y)\n",
    "    forward_angle = np.arccos(np.dot(spine, vertical))\n",
    "    \n",
    "    side_angle = np.arccos(np.arctan2(spine, horizontal))\n",
    "    \n",
    "    return forward_angle, side_angle\n",
    "\n",
    "def get_arm_angles(shoulder, elbow, wrist, neck, mid_hip):\n",
    "        # Shoulder angle is dependent on the rotation of the spine and hips\n",
    "\n",
    "        # Here we formulate shoulder angle in terms of abduction \n",
    "        # (moving away from sagital plane) and flexion (moving away from coronal plane)\n",
    "        spine = neck - mid_hip\n",
    "        shoulder_line = shoulder - elbow\n",
    "        coronal_normal = np.cross(spine, shoulder_line)\n",
    "        coronal_normal = coronal_normal / np.linalg.norm(coronal_normal)\n",
    "        sagittal_normal = np.cross(coronal_normal, spine)\n",
    "\n",
    "        # Shoulder angles\n",
    "        upper_arm = elbow - shoulder\n",
    "        upper_arm = upper_arm / np.linalg.norm(upper_arm)\n",
    "        \n",
    "        \n",
    "        shoulder_abduction = np.arccos(np.dot(upper_arm, coronal_normal))\n",
    "        shoulder_flexion = np.arccos(np.dot(upper_arm, sagittal_normal))\n",
    "\n",
    "        # Elbow angle\n",
    "        forearm = wrist - elbow\n",
    "        forearm = forearm / np.linalg.norm(forearm)\n",
    "        upper_arm = elbow - shoulder\n",
    "        upper_arm = upper_arm / np.linalg.norm(upper_arm)\n",
    "        elbow_angle = np.arccos(np.dot(forearm, upper_arm))\n",
    "        \n",
    "        return shoulder_abduction, shoulder_flexion, elbow_angle\n",
    "\n",
    "def get_leg_angles(hip, knee, ankle, foot):\n",
    "        # Thigh angles\n",
    "        thigh = knee - hip\n",
    "        thigh = thigh / np.linalg.norm(thigh)\n",
    "        \n",
    "        # Hip angles are simply the angle on each 3D rotation axis\n",
    "        thigh_forward = np.arctan2(thigh[2], thigh[1])\n",
    "        thigh_out = np.arctan2(thigh[0], thigh[1]) \n",
    "        thigh_twist = np.arctan2(thigh[0], thigh[2])  \n",
    "        \n",
    "        # Knee angle is the angle between the thigh and shin\n",
    "        shin = ankle - knee\n",
    "        shin = shin / np.linalg.norm(shin)\n",
    "        knee_angle = np.arccos(np.dot(thigh, shin))\n",
    "        \n",
    "        # Foot tracking is not accurate enough, so we don't compute foot angles\n",
    "        \n",
    "        return thigh_forward, thigh_out, thigh_twist, knee_angle\n",
    "    \n",
    "\n",
    "def compute_joint_angles(pose_array):\n",
    "    '''\n",
    "    Assume pose_array is in the following format:\n",
    "\n",
    "    ['torso', 'head', 'lower_waist', 'right_upper_arm', 'left_upper_arm', \n",
    "    'pelvis', 'right_lower_arm', 'left_lower_arm', 'right_thigh', \n",
    "    'left_thigh', 'right_hand', 'left_hand', 'right_shin', 'left_shin', \n",
    "    'Club', 'right_foot', 'left_foot']\n",
    "    '''\n",
    "\n",
    "    # Center the pose at the left foot\n",
    "    pose_array = pose_array - pose_array[16]\n",
    "\n",
    "    \n",
    "    waist_forwards, waist_sideways = get_waist_angles(pose_array[1], pose_array[0], (pose_array[16] + pose_array[15]) / 2, pose_array[12], pose_array[13])\n",
    "    right_shoulder_abduction, right_shoulder_flexion, right_elbow_angle = get_arm_angles(pose_array[3], pose_array[6], pose_array[10], pose_array[1], pose_array[0])\n",
    "    left_shoulder_abduction, left_shoulder_flexion, left_elbow_angle = get_arm_angles(pose_array[4], pose_array[7], pose_array[11], pose_array[1], pose_array[0])\n",
    "    right_thigh_forward, right_thigh_out, right_thigh_twist, right_knee_angle = get_leg_angles(pose_array[8], pose_array[12], pose_array[13], pose_array[15])\n",
    "    left_thigh_forward, left_thigh_out, left_thigh_twist, left_knee_angle = get_leg_angles(pose_array[9], pose_array[13], pose_array[14], pose_array[16])\n",
    "\n",
    "    return np.array([\n",
    "        waist_forwards, \n",
    "        waist_sideways, \n",
    "        right_shoulder_abduction, \n",
    "        right_shoulder_flexion, \n",
    "        left_shoulder_abduction, \n",
    "        left_shoulder_flexion, \n",
    "        right_thigh_forward, \n",
    "        right_thigh_out, \n",
    "        right_thigh_twist, \n",
    "        left_thigh_forward, \n",
    "        left_thigh_out, \n",
    "        left_thigh_twist, \n",
    "        right_knee_angle, \n",
    "        left_knee_angle\n",
    "        ])\n",
    "\n",
    "isaac_joint_angles = compute_joint_angles(isaac_joints_3d)\n",
    "print(isaac_joint_angles)"
   ]
  },
  {
   "cell_type": "code",
   "execution_count": null,
   "metadata": {},
   "outputs": [],
   "source": [
    "array([ 1.27593507,  0.38287012,  1.57079633,  1.72135675,  1.57079633,\n",
    "        1.75307994, -2.32419503,  1.82389793,  1.83986416,  0.04111815,\n",
    "        0.09699249,  1.17075716,  2.20494371,  1.87297198])"
   ]
  }
 ],
 "metadata": {
  "kernelspec": {
   "display_name": "4D-humans",
   "language": "python",
   "name": "python3"
  },
  "language_info": {
   "codemirror_mode": {
    "name": "ipython",
    "version": 3
   },
   "file_extension": ".py",
   "mimetype": "text/x-python",
   "name": "python",
   "nbconvert_exporter": "python",
   "pygments_lexer": "ipython3",
   "version": "3.10.15"
  }
 },
 "nbformat": 4,
 "nbformat_minor": 2
}
