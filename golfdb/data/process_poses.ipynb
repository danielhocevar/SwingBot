{
 "cells": [
  {
   "cell_type": "code",
   "execution_count": 1,
   "metadata": {},
   "outputs": [],
   "source": [
    "import pandas as pd\n",
    "import pickle\n",
    "import joblib\n",
    "# df = pd.read_pickle('poses/results/demo_TIGER_WOODS_THqn7IjaiEY_1c3e5a96-37ee-4fe4-8df9-1c97cea2cf67.pkl')\n",
    "\n",
    "# print(df.head())"
   ]
  },
  {
   "cell_type": "code",
   "execution_count": 2,
   "metadata": {},
   "outputs": [
    {
     "name": "stdout",
     "output_type": "stream",
     "text": [
      "dict_keys(['/home/daniel/development/csc2626/final-project/golfdb/data/poses//_DEMO/TIGER_WOODS_THqn7IjaiEY_1c3e5a96-37ee-4fe4-8df9-1c97cea2cf67/img/000001.jpg', '/home/daniel/development/csc2626/final-project/golfdb/data/poses//_DEMO/TIGER_WOODS_THqn7IjaiEY_1c3e5a96-37ee-4fe4-8df9-1c97cea2cf67/img/000002.jpg', '/home/daniel/development/csc2626/final-project/golfdb/data/poses//_DEMO/TIGER_WOODS_THqn7IjaiEY_1c3e5a96-37ee-4fe4-8df9-1c97cea2cf67/img/000003.jpg', '/home/daniel/development/csc2626/final-project/golfdb/data/poses//_DEMO/TIGER_WOODS_THqn7IjaiEY_1c3e5a96-37ee-4fe4-8df9-1c97cea2cf67/img/000004.jpg', '/home/daniel/development/csc2626/final-project/golfdb/data/poses//_DEMO/TIGER_WOODS_THqn7IjaiEY_1c3e5a96-37ee-4fe4-8df9-1c97cea2cf67/img/000005.jpg', '/home/daniel/development/csc2626/final-project/golfdb/data/poses//_DEMO/TIGER_WOODS_THqn7IjaiEY_1c3e5a96-37ee-4fe4-8df9-1c97cea2cf67/img/000006.jpg', '/home/daniel/development/csc2626/final-project/golfdb/data/poses//_DEMO/TIGER_WOODS_THqn7IjaiEY_1c3e5a96-37ee-4fe4-8df9-1c97cea2cf67/img/000007.jpg', '/home/daniel/development/csc2626/final-project/golfdb/data/poses//_DEMO/TIGER_WOODS_THqn7IjaiEY_1c3e5a96-37ee-4fe4-8df9-1c97cea2cf67/img/000008.jpg', '/home/daniel/development/csc2626/final-project/golfdb/data/poses//_DEMO/TIGER_WOODS_THqn7IjaiEY_1c3e5a96-37ee-4fe4-8df9-1c97cea2cf67/img/000009.jpg', '/home/daniel/development/csc2626/final-project/golfdb/data/poses//_DEMO/TIGER_WOODS_THqn7IjaiEY_1c3e5a96-37ee-4fe4-8df9-1c97cea2cf67/img/000010.jpg', '/home/daniel/development/csc2626/final-project/golfdb/data/poses//_DEMO/TIGER_WOODS_THqn7IjaiEY_1c3e5a96-37ee-4fe4-8df9-1c97cea2cf67/img/000011.jpg', '/home/daniel/development/csc2626/final-project/golfdb/data/poses//_DEMO/TIGER_WOODS_THqn7IjaiEY_1c3e5a96-37ee-4fe4-8df9-1c97cea2cf67/img/000012.jpg', '/home/daniel/development/csc2626/final-project/golfdb/data/poses//_DEMO/TIGER_WOODS_THqn7IjaiEY_1c3e5a96-37ee-4fe4-8df9-1c97cea2cf67/img/000013.jpg', '/home/daniel/development/csc2626/final-project/golfdb/data/poses//_DEMO/TIGER_WOODS_THqn7IjaiEY_1c3e5a96-37ee-4fe4-8df9-1c97cea2cf67/img/000014.jpg', '/home/daniel/development/csc2626/final-project/golfdb/data/poses//_DEMO/TIGER_WOODS_THqn7IjaiEY_1c3e5a96-37ee-4fe4-8df9-1c97cea2cf67/img/000015.jpg', '/home/daniel/development/csc2626/final-project/golfdb/data/poses//_DEMO/TIGER_WOODS_THqn7IjaiEY_1c3e5a96-37ee-4fe4-8df9-1c97cea2cf67/img/000016.jpg', '/home/daniel/development/csc2626/final-project/golfdb/data/poses//_DEMO/TIGER_WOODS_THqn7IjaiEY_1c3e5a96-37ee-4fe4-8df9-1c97cea2cf67/img/000017.jpg', '/home/daniel/development/csc2626/final-project/golfdb/data/poses//_DEMO/TIGER_WOODS_THqn7IjaiEY_1c3e5a96-37ee-4fe4-8df9-1c97cea2cf67/img/000018.jpg', '/home/daniel/development/csc2626/final-project/golfdb/data/poses//_DEMO/TIGER_WOODS_THqn7IjaiEY_1c3e5a96-37ee-4fe4-8df9-1c97cea2cf67/img/000019.jpg', '/home/daniel/development/csc2626/final-project/golfdb/data/poses//_DEMO/TIGER_WOODS_THqn7IjaiEY_1c3e5a96-37ee-4fe4-8df9-1c97cea2cf67/img/000020.jpg', '/home/daniel/development/csc2626/final-project/golfdb/data/poses//_DEMO/TIGER_WOODS_THqn7IjaiEY_1c3e5a96-37ee-4fe4-8df9-1c97cea2cf67/img/000021.jpg', '/home/daniel/development/csc2626/final-project/golfdb/data/poses//_DEMO/TIGER_WOODS_THqn7IjaiEY_1c3e5a96-37ee-4fe4-8df9-1c97cea2cf67/img/000022.jpg', '/home/daniel/development/csc2626/final-project/golfdb/data/poses//_DEMO/TIGER_WOODS_THqn7IjaiEY_1c3e5a96-37ee-4fe4-8df9-1c97cea2cf67/img/000023.jpg', '/home/daniel/development/csc2626/final-project/golfdb/data/poses//_DEMO/TIGER_WOODS_THqn7IjaiEY_1c3e5a96-37ee-4fe4-8df9-1c97cea2cf67/img/000024.jpg', '/home/daniel/development/csc2626/final-project/golfdb/data/poses//_DEMO/TIGER_WOODS_THqn7IjaiEY_1c3e5a96-37ee-4fe4-8df9-1c97cea2cf67/img/000025.jpg', '/home/daniel/development/csc2626/final-project/golfdb/data/poses//_DEMO/TIGER_WOODS_THqn7IjaiEY_1c3e5a96-37ee-4fe4-8df9-1c97cea2cf67/img/000026.jpg', '/home/daniel/development/csc2626/final-project/golfdb/data/poses//_DEMO/TIGER_WOODS_THqn7IjaiEY_1c3e5a96-37ee-4fe4-8df9-1c97cea2cf67/img/000027.jpg', '/home/daniel/development/csc2626/final-project/golfdb/data/poses//_DEMO/TIGER_WOODS_THqn7IjaiEY_1c3e5a96-37ee-4fe4-8df9-1c97cea2cf67/img/000028.jpg', '/home/daniel/development/csc2626/final-project/golfdb/data/poses//_DEMO/TIGER_WOODS_THqn7IjaiEY_1c3e5a96-37ee-4fe4-8df9-1c97cea2cf67/img/000029.jpg', '/home/daniel/development/csc2626/final-project/golfdb/data/poses//_DEMO/TIGER_WOODS_THqn7IjaiEY_1c3e5a96-37ee-4fe4-8df9-1c97cea2cf67/img/000030.jpg', '/home/daniel/development/csc2626/final-project/golfdb/data/poses//_DEMO/TIGER_WOODS_THqn7IjaiEY_1c3e5a96-37ee-4fe4-8df9-1c97cea2cf67/img/000031.jpg', '/home/daniel/development/csc2626/final-project/golfdb/data/poses//_DEMO/TIGER_WOODS_THqn7IjaiEY_1c3e5a96-37ee-4fe4-8df9-1c97cea2cf67/img/000032.jpg', '/home/daniel/development/csc2626/final-project/golfdb/data/poses//_DEMO/TIGER_WOODS_THqn7IjaiEY_1c3e5a96-37ee-4fe4-8df9-1c97cea2cf67/img/000033.jpg', '/home/daniel/development/csc2626/final-project/golfdb/data/poses//_DEMO/TIGER_WOODS_THqn7IjaiEY_1c3e5a96-37ee-4fe4-8df9-1c97cea2cf67/img/000034.jpg', '/home/daniel/development/csc2626/final-project/golfdb/data/poses//_DEMO/TIGER_WOODS_THqn7IjaiEY_1c3e5a96-37ee-4fe4-8df9-1c97cea2cf67/img/000035.jpg', '/home/daniel/development/csc2626/final-project/golfdb/data/poses//_DEMO/TIGER_WOODS_THqn7IjaiEY_1c3e5a96-37ee-4fe4-8df9-1c97cea2cf67/img/000036.jpg', '/home/daniel/development/csc2626/final-project/golfdb/data/poses//_DEMO/TIGER_WOODS_THqn7IjaiEY_1c3e5a96-37ee-4fe4-8df9-1c97cea2cf67/img/000037.jpg', '/home/daniel/development/csc2626/final-project/golfdb/data/poses//_DEMO/TIGER_WOODS_THqn7IjaiEY_1c3e5a96-37ee-4fe4-8df9-1c97cea2cf67/img/000038.jpg', '/home/daniel/development/csc2626/final-project/golfdb/data/poses//_DEMO/TIGER_WOODS_THqn7IjaiEY_1c3e5a96-37ee-4fe4-8df9-1c97cea2cf67/img/000039.jpg', '/home/daniel/development/csc2626/final-project/golfdb/data/poses//_DEMO/TIGER_WOODS_THqn7IjaiEY_1c3e5a96-37ee-4fe4-8df9-1c97cea2cf67/img/000040.jpg', '/home/daniel/development/csc2626/final-project/golfdb/data/poses//_DEMO/TIGER_WOODS_THqn7IjaiEY_1c3e5a96-37ee-4fe4-8df9-1c97cea2cf67/img/000041.jpg', '/home/daniel/development/csc2626/final-project/golfdb/data/poses//_DEMO/TIGER_WOODS_THqn7IjaiEY_1c3e5a96-37ee-4fe4-8df9-1c97cea2cf67/img/000042.jpg', '/home/daniel/development/csc2626/final-project/golfdb/data/poses//_DEMO/TIGER_WOODS_THqn7IjaiEY_1c3e5a96-37ee-4fe4-8df9-1c97cea2cf67/img/000043.jpg', '/home/daniel/development/csc2626/final-project/golfdb/data/poses//_DEMO/TIGER_WOODS_THqn7IjaiEY_1c3e5a96-37ee-4fe4-8df9-1c97cea2cf67/img/000044.jpg', '/home/daniel/development/csc2626/final-project/golfdb/data/poses//_DEMO/TIGER_WOODS_THqn7IjaiEY_1c3e5a96-37ee-4fe4-8df9-1c97cea2cf67/img/000045.jpg', '/home/daniel/development/csc2626/final-project/golfdb/data/poses//_DEMO/TIGER_WOODS_THqn7IjaiEY_1c3e5a96-37ee-4fe4-8df9-1c97cea2cf67/img/000046.jpg', '/home/daniel/development/csc2626/final-project/golfdb/data/poses//_DEMO/TIGER_WOODS_THqn7IjaiEY_1c3e5a96-37ee-4fe4-8df9-1c97cea2cf67/img/000047.jpg', '/home/daniel/development/csc2626/final-project/golfdb/data/poses//_DEMO/TIGER_WOODS_THqn7IjaiEY_1c3e5a96-37ee-4fe4-8df9-1c97cea2cf67/img/000048.jpg', '/home/daniel/development/csc2626/final-project/golfdb/data/poses//_DEMO/TIGER_WOODS_THqn7IjaiEY_1c3e5a96-37ee-4fe4-8df9-1c97cea2cf67/img/000049.jpg', '/home/daniel/development/csc2626/final-project/golfdb/data/poses//_DEMO/TIGER_WOODS_THqn7IjaiEY_1c3e5a96-37ee-4fe4-8df9-1c97cea2cf67/img/000050.jpg', '/home/daniel/development/csc2626/final-project/golfdb/data/poses//_DEMO/TIGER_WOODS_THqn7IjaiEY_1c3e5a96-37ee-4fe4-8df9-1c97cea2cf67/img/000051.jpg', '/home/daniel/development/csc2626/final-project/golfdb/data/poses//_DEMO/TIGER_WOODS_THqn7IjaiEY_1c3e5a96-37ee-4fe4-8df9-1c97cea2cf67/img/000052.jpg', '/home/daniel/development/csc2626/final-project/golfdb/data/poses//_DEMO/TIGER_WOODS_THqn7IjaiEY_1c3e5a96-37ee-4fe4-8df9-1c97cea2cf67/img/000053.jpg', '/home/daniel/development/csc2626/final-project/golfdb/data/poses//_DEMO/TIGER_WOODS_THqn7IjaiEY_1c3e5a96-37ee-4fe4-8df9-1c97cea2cf67/img/000054.jpg', '/home/daniel/development/csc2626/final-project/golfdb/data/poses//_DEMO/TIGER_WOODS_THqn7IjaiEY_1c3e5a96-37ee-4fe4-8df9-1c97cea2cf67/img/000055.jpg', '/home/daniel/development/csc2626/final-project/golfdb/data/poses//_DEMO/TIGER_WOODS_THqn7IjaiEY_1c3e5a96-37ee-4fe4-8df9-1c97cea2cf67/img/000056.jpg', '/home/daniel/development/csc2626/final-project/golfdb/data/poses//_DEMO/TIGER_WOODS_THqn7IjaiEY_1c3e5a96-37ee-4fe4-8df9-1c97cea2cf67/img/000057.jpg', '/home/daniel/development/csc2626/final-project/golfdb/data/poses//_DEMO/TIGER_WOODS_THqn7IjaiEY_1c3e5a96-37ee-4fe4-8df9-1c97cea2cf67/img/000058.jpg', '/home/daniel/development/csc2626/final-project/golfdb/data/poses//_DEMO/TIGER_WOODS_THqn7IjaiEY_1c3e5a96-37ee-4fe4-8df9-1c97cea2cf67/img/000059.jpg', '/home/daniel/development/csc2626/final-project/golfdb/data/poses//_DEMO/TIGER_WOODS_THqn7IjaiEY_1c3e5a96-37ee-4fe4-8df9-1c97cea2cf67/img/000060.jpg', '/home/daniel/development/csc2626/final-project/golfdb/data/poses//_DEMO/TIGER_WOODS_THqn7IjaiEY_1c3e5a96-37ee-4fe4-8df9-1c97cea2cf67/img/000061.jpg', '/home/daniel/development/csc2626/final-project/golfdb/data/poses//_DEMO/TIGER_WOODS_THqn7IjaiEY_1c3e5a96-37ee-4fe4-8df9-1c97cea2cf67/img/000062.jpg', '/home/daniel/development/csc2626/final-project/golfdb/data/poses//_DEMO/TIGER_WOODS_THqn7IjaiEY_1c3e5a96-37ee-4fe4-8df9-1c97cea2cf67/img/000063.jpg', '/home/daniel/development/csc2626/final-project/golfdb/data/poses//_DEMO/TIGER_WOODS_THqn7IjaiEY_1c3e5a96-37ee-4fe4-8df9-1c97cea2cf67/img/000064.jpg', '/home/daniel/development/csc2626/final-project/golfdb/data/poses//_DEMO/TIGER_WOODS_THqn7IjaiEY_1c3e5a96-37ee-4fe4-8df9-1c97cea2cf67/img/000065.jpg', '/home/daniel/development/csc2626/final-project/golfdb/data/poses//_DEMO/TIGER_WOODS_THqn7IjaiEY_1c3e5a96-37ee-4fe4-8df9-1c97cea2cf67/img/000066.jpg', '/home/daniel/development/csc2626/final-project/golfdb/data/poses//_DEMO/TIGER_WOODS_THqn7IjaiEY_1c3e5a96-37ee-4fe4-8df9-1c97cea2cf67/img/000067.jpg', '/home/daniel/development/csc2626/final-project/golfdb/data/poses//_DEMO/TIGER_WOODS_THqn7IjaiEY_1c3e5a96-37ee-4fe4-8df9-1c97cea2cf67/img/000068.jpg', '/home/daniel/development/csc2626/final-project/golfdb/data/poses//_DEMO/TIGER_WOODS_THqn7IjaiEY_1c3e5a96-37ee-4fe4-8df9-1c97cea2cf67/img/000069.jpg', '/home/daniel/development/csc2626/final-project/golfdb/data/poses//_DEMO/TIGER_WOODS_THqn7IjaiEY_1c3e5a96-37ee-4fe4-8df9-1c97cea2cf67/img/000070.jpg', '/home/daniel/development/csc2626/final-project/golfdb/data/poses//_DEMO/TIGER_WOODS_THqn7IjaiEY_1c3e5a96-37ee-4fe4-8df9-1c97cea2cf67/img/000071.jpg', '/home/daniel/development/csc2626/final-project/golfdb/data/poses//_DEMO/TIGER_WOODS_THqn7IjaiEY_1c3e5a96-37ee-4fe4-8df9-1c97cea2cf67/img/000072.jpg', '/home/daniel/development/csc2626/final-project/golfdb/data/poses//_DEMO/TIGER_WOODS_THqn7IjaiEY_1c3e5a96-37ee-4fe4-8df9-1c97cea2cf67/img/000073.jpg', '/home/daniel/development/csc2626/final-project/golfdb/data/poses//_DEMO/TIGER_WOODS_THqn7IjaiEY_1c3e5a96-37ee-4fe4-8df9-1c97cea2cf67/img/000074.jpg', '/home/daniel/development/csc2626/final-project/golfdb/data/poses//_DEMO/TIGER_WOODS_THqn7IjaiEY_1c3e5a96-37ee-4fe4-8df9-1c97cea2cf67/img/000075.jpg', '/home/daniel/development/csc2626/final-project/golfdb/data/poses//_DEMO/TIGER_WOODS_THqn7IjaiEY_1c3e5a96-37ee-4fe4-8df9-1c97cea2cf67/img/000076.jpg', '/home/daniel/development/csc2626/final-project/golfdb/data/poses//_DEMO/TIGER_WOODS_THqn7IjaiEY_1c3e5a96-37ee-4fe4-8df9-1c97cea2cf67/img/000077.jpg', '/home/daniel/development/csc2626/final-project/golfdb/data/poses//_DEMO/TIGER_WOODS_THqn7IjaiEY_1c3e5a96-37ee-4fe4-8df9-1c97cea2cf67/img/000078.jpg', '/home/daniel/development/csc2626/final-project/golfdb/data/poses//_DEMO/TIGER_WOODS_THqn7IjaiEY_1c3e5a96-37ee-4fe4-8df9-1c97cea2cf67/img/000079.jpg', '/home/daniel/development/csc2626/final-project/golfdb/data/poses//_DEMO/TIGER_WOODS_THqn7IjaiEY_1c3e5a96-37ee-4fe4-8df9-1c97cea2cf67/img/000080.jpg', '/home/daniel/development/csc2626/final-project/golfdb/data/poses//_DEMO/TIGER_WOODS_THqn7IjaiEY_1c3e5a96-37ee-4fe4-8df9-1c97cea2cf67/img/000081.jpg', '/home/daniel/development/csc2626/final-project/golfdb/data/poses//_DEMO/TIGER_WOODS_THqn7IjaiEY_1c3e5a96-37ee-4fe4-8df9-1c97cea2cf67/img/000082.jpg'])\n"
     ]
    }
   ],
   "source": [
    "x = joblib.load('poses/results/demo_TIGER_WOODS_THqn7IjaiEY_1c3e5a96-37ee-4fe4-8df9-1c97cea2cf67.pkl')\n",
    "\n",
    "print(x.keys())"
   ]
  },
  {
   "cell_type": "code",
   "execution_count": 3,
   "metadata": {},
   "outputs": [],
   "source": [
    "joints = x['/home/daniel/development/csc2626/final-project/golfdb/data/poses//_DEMO/TIGER_WOODS_THqn7IjaiEY_1c3e5a96-37ee-4fe4-8df9-1c97cea2cf67/img/000001.jpg']['3d_joints']"
   ]
  },
  {
   "cell_type": "code",
   "execution_count": 15,
   "metadata": {},
   "outputs": [
    {
     "name": "stdout",
     "output_type": "stream",
     "text": [
      "[[ 0.43687135 -0.5813496  -0.16429722]\n",
      " [ 0.25426435 -0.6080713  -0.10755011]\n",
      " [ 0.1941773  -0.50144124 -0.24860758]\n",
      " [ 0.1893078  -0.24210232 -0.26919386]\n",
      " [ 0.250584    0.00486651 -0.21073762]\n",
      " [ 0.28295812 -0.52876824  0.06108666]\n",
      " [ 0.2645902  -0.2732781   0.13643454]\n",
      " [ 0.25845423 -0.03920341  0.03637706]\n",
      " [-0.00181581 -0.22008194  0.0264163 ]\n",
      " [-0.04983216 -0.12498005 -0.0091709 ]\n",
      " [-0.01797044  0.2632233  -0.06564137]\n",
      " [-0.0911397   0.66561294 -0.02909748]\n",
      " [ 0.01015145 -0.14351982  0.11045104]\n",
      " [ 0.1141456   0.21468315  0.21025729]\n",
      " [ 0.0745897   0.6006846   0.34403718]\n",
      " [ 0.4258828  -0.6313965  -0.19937763]\n",
      " [ 0.44732    -0.63502777 -0.1360642 ]\n",
      " [ 0.33514175 -0.6796278  -0.21642181]\n",
      " [ 0.3817982  -0.6876758  -0.07631441]\n",
      " [ 0.25306472  0.6878569   0.29350886]\n",
      " [ 0.23225605  0.6676012   0.37227175]\n",
      " [ 0.02038204  0.6250005   0.38096917]\n",
      " [ 0.07721041  0.75665736 -0.10601286]\n",
      " [-0.00157204  0.7569655  -0.14520329]\n",
      " [-0.15061742  0.6996273  -0.00098398]]\n",
      "25\n",
      "[np.float32(0.43687135), np.float32(0.25426435), np.float32(0.1941773), np.float32(0.1893078), np.float32(0.250584), np.float32(0.28295812), np.float32(0.2645902), np.float32(0.25845423), np.float32(-0.0018158117), np.float32(-0.04983216), np.float32(-0.017970439), np.float32(-0.091139704), np.float32(0.010151447), np.float32(0.1141456), np.float32(0.0745897), np.float32(0.4258828), np.float32(0.44732), np.float32(0.33514175), np.float32(0.3817982), np.float32(0.25306472), np.float32(0.23225605), np.float32(0.020382036), np.float32(0.07721041), np.float32(-0.0015720427), np.float32(-0.15061742)] [np.float32(-0.5813496), np.float32(-0.6080713), np.float32(-0.50144124), np.float32(-0.24210232), np.float32(0.0048665106), np.float32(-0.52876824), np.float32(-0.2732781), np.float32(-0.039203405), np.float32(-0.22008194), np.float32(-0.124980055), np.float32(0.2632233), np.float32(0.66561294), np.float32(-0.14351982), np.float32(0.21468315), np.float32(0.6006846), np.float32(-0.6313965), np.float32(-0.63502777), np.float32(-0.6796278), np.float32(-0.6876758), np.float32(0.6878569), np.float32(0.6676012), np.float32(0.6250005), np.float32(0.75665736), np.float32(0.7569655), np.float32(0.6996273)] [np.float32(-0.16429722), np.float32(-0.107550114), np.float32(-0.24860758), np.float32(-0.26919386), np.float32(-0.21073762), np.float32(0.06108666), np.float32(0.13643454), np.float32(0.036377057), np.float32(0.026416304), np.float32(-0.009170899), np.float32(-0.065641366), np.float32(-0.029097475), np.float32(0.110451035), np.float32(0.21025729), np.float32(0.34403718), np.float32(-0.19937763), np.float32(-0.1360642), np.float32(-0.21642181), np.float32(-0.07631441), np.float32(0.29350886), np.float32(0.37227175), np.float32(0.38096917), np.float32(-0.10601286), np.float32(-0.14520329), np.float32(-0.0009839758)]\n"
     ]
    },
    {
     "data": {
      "application/vnd.plotly.v1+json": {
       "config": {
        "plotlyServerURL": "https://plot.ly"
       },
       "data": [
        {
         "marker": {
          "color": [
           "red",
           "red",
           "red",
           "red",
           "red",
           "red",
           "red",
           "red",
           "red",
           "red",
           "red",
           "red",
           "red",
           "red",
           "red",
           "red",
           "red",
           "red",
           "red",
           "red",
           "red",
           "red",
           "red",
           "red",
           "red"
          ],
          "size": 5
         },
         "mode": "markers",
         "type": "scatter3d",
         "x": [
          0.43687134981155396,
          0.25426435470581055,
          0.1941772997379303,
          0.1893077939748764,
          0.2505840063095093,
          0.28295812010765076,
          0.26459020376205444,
          0.25845423340797424,
          -0.0018158117309212685,
          -0.04983216151595116,
          -0.017970439046621323,
          -0.09113970398902893,
          0.010151446796953678,
          0.11414559930562973,
          0.07458969950675964,
          0.4258827865123749,
          0.44732001423835754,
          0.33514174818992615,
          0.3817982077598572,
          0.25306472182273865,
          0.23225605487823486,
          0.02038203552365303,
          0.07721041142940521,
          -0.00157204270362854,
          -0.15061742067337036
         ],
         "y": [
          -0.5813496112823486,
          -0.6080713272094727,
          -0.501441240310669,
          -0.24210232496261597,
          0.004866510629653931,
          -0.5287682414054871,
          -0.2732780873775482,
          -0.03920340538024902,
          -0.22008194029331207,
          -0.12498005479574203,
          0.2632232904434204,
          0.6656129360198975,
          -0.1435198187828064,
          0.2146831452846527,
          0.6006845831871033,
          -0.631396472454071,
          -0.6350277662277222,
          -0.6796277761459351,
          -0.6876757740974426,
          0.687856912612915,
          0.6676012277603149,
          0.6250004768371582,
          0.7566573619842529,
          0.7569655179977417,
          0.6996272802352905
         ],
         "z": [
          -0.1642972230911255,
          -0.10755011439323425,
          -0.2486075758934021,
          -0.2691938579082489,
          -0.21073761582374573,
          0.061086658388376236,
          0.13643454015254974,
          0.03637705743312836,
          0.02641630358994007,
          -0.009170899167656898,
          -0.0656413659453392,
          -0.029097475111484528,
          0.11045103520154953,
          0.21025729179382324,
          0.34403717517852783,
          -0.1993776261806488,
          -0.13606420159339905,
          -0.21642181277275085,
          -0.07631441205739975,
          0.2935088574886322,
          0.37227174639701843,
          0.38096916675567627,
          -0.10601285845041275,
          -0.14520329236984253,
          -0.0009839758276939392
         ]
        },
        {
         "line": {
          "color": "blue",
          "width": 2
         },
         "mode": "lines",
         "name": "nose_to_neck",
         "type": "scatter3d",
         "x": [
          0.43687134981155396,
          0.25426435470581055
         ],
         "y": [
          -0.5813496112823486,
          -0.6080713272094727
         ],
         "z": [
          -0.1642972230911255,
          -0.10755011439323425
         ]
        },
        {
         "line": {
          "color": "blue",
          "width": 2
         },
         "mode": "lines",
         "name": "neck_to_rshoulder",
         "type": "scatter3d",
         "x": [
          0.25426435470581055,
          0.1941772997379303
         ],
         "y": [
          -0.6080713272094727,
          -0.501441240310669
         ],
         "z": [
          -0.10755011439323425,
          -0.2486075758934021
         ]
        },
        {
         "line": {
          "color": "blue",
          "width": 2
         },
         "mode": "lines",
         "name": "rshoulder_to_relbow",
         "type": "scatter3d",
         "x": [
          0.1941772997379303,
          0.1893077939748764
         ],
         "y": [
          -0.501441240310669,
          -0.24210232496261597
         ],
         "z": [
          -0.2486075758934021,
          -0.2691938579082489
         ]
        },
        {
         "line": {
          "color": "blue",
          "width": 2
         },
         "mode": "lines",
         "name": "relbow_to_rwrist",
         "type": "scatter3d",
         "x": [
          0.1893077939748764,
          0.2505840063095093
         ],
         "y": [
          -0.24210232496261597,
          0.004866510629653931
         ],
         "z": [
          -0.2691938579082489,
          -0.21073761582374573
         ]
        },
        {
         "line": {
          "color": "blue",
          "width": 2
         },
         "mode": "lines",
         "name": "neck_to_lshoulder",
         "type": "scatter3d",
         "x": [
          0.25426435470581055,
          0.28295812010765076
         ],
         "y": [
          -0.6080713272094727,
          -0.5287682414054871
         ],
         "z": [
          -0.10755011439323425,
          0.061086658388376236
         ]
        },
        {
         "line": {
          "color": "blue",
          "width": 2
         },
         "mode": "lines",
         "name": "lshoulder_to_lelbow",
         "type": "scatter3d",
         "x": [
          0.28295812010765076,
          0.26459020376205444
         ],
         "y": [
          -0.5287682414054871,
          -0.2732780873775482
         ],
         "z": [
          0.061086658388376236,
          0.13643454015254974
         ]
        },
        {
         "line": {
          "color": "blue",
          "width": 2
         },
         "mode": "lines",
         "name": "lelbow_to_lwrist",
         "type": "scatter3d",
         "x": [
          0.26459020376205444,
          0.25845423340797424
         ],
         "y": [
          -0.2732780873775482,
          -0.03920340538024902
         ],
         "z": [
          0.13643454015254974,
          0.03637705743312836
         ]
        },
        {
         "line": {
          "color": "blue",
          "width": 2
         },
         "mode": "lines",
         "name": "neck_to_midhip",
         "type": "scatter3d",
         "x": [
          0.25426435470581055,
          -0.0018158117309212685
         ],
         "y": [
          -0.6080713272094727,
          -0.22008194029331207
         ],
         "z": [
          -0.10755011439323425,
          0.02641630358994007
         ]
        },
        {
         "line": {
          "color": "blue",
          "width": 2
         },
         "mode": "lines",
         "name": "midhip_to_rhip",
         "type": "scatter3d",
         "x": [
          -0.0018158117309212685,
          -0.04983216151595116
         ],
         "y": [
          -0.22008194029331207,
          -0.12498005479574203
         ],
         "z": [
          0.02641630358994007,
          -0.009170899167656898
         ]
        },
        {
         "line": {
          "color": "blue",
          "width": 2
         },
         "mode": "lines",
         "name": "rhip_to_rknee",
         "type": "scatter3d",
         "x": [
          -0.04983216151595116,
          -0.017970439046621323
         ],
         "y": [
          -0.12498005479574203,
          0.2632232904434204
         ],
         "z": [
          -0.009170899167656898,
          -0.0656413659453392
         ]
        },
        {
         "line": {
          "color": "blue",
          "width": 2
         },
         "mode": "lines",
         "name": "rknee_to_rankle",
         "type": "scatter3d",
         "x": [
          -0.017970439046621323,
          -0.09113970398902893
         ],
         "y": [
          0.2632232904434204,
          0.6656129360198975
         ],
         "z": [
          -0.0656413659453392,
          -0.029097475111484528
         ]
        },
        {
         "line": {
          "color": "blue",
          "width": 2
         },
         "mode": "lines",
         "name": "midhip_to_lhip",
         "type": "scatter3d",
         "x": [
          -0.0018158117309212685,
          0.010151446796953678
         ],
         "y": [
          -0.22008194029331207,
          -0.1435198187828064
         ],
         "z": [
          0.02641630358994007,
          0.11045103520154953
         ]
        },
        {
         "line": {
          "color": "blue",
          "width": 2
         },
         "mode": "lines",
         "name": "lhip_to_lknee",
         "type": "scatter3d",
         "x": [
          0.010151446796953678,
          0.11414559930562973
         ],
         "y": [
          -0.1435198187828064,
          0.2146831452846527
         ],
         "z": [
          0.11045103520154953,
          0.21025729179382324
         ]
        },
        {
         "line": {
          "color": "blue",
          "width": 2
         },
         "mode": "lines",
         "name": "lknee_to_lankle",
         "type": "scatter3d",
         "x": [
          0.11414559930562973,
          0.07458969950675964
         ],
         "y": [
          0.2146831452846527,
          0.6006845831871033
         ],
         "z": [
          0.21025729179382324,
          0.34403717517852783
         ]
        },
        {
         "line": {
          "color": "blue",
          "width": 2
         },
         "mode": "lines",
         "name": "nose_to_reye",
         "type": "scatter3d",
         "x": [
          0.43687134981155396,
          0.4258827865123749
         ],
         "y": [
          -0.5813496112823486,
          -0.631396472454071
         ],
         "z": [
          -0.1642972230911255,
          -0.1993776261806488
         ]
        },
        {
         "line": {
          "color": "blue",
          "width": 2
         },
         "mode": "lines",
         "name": "nose_to_leye",
         "type": "scatter3d",
         "x": [
          0.43687134981155396,
          0.44732001423835754
         ],
         "y": [
          -0.5813496112823486,
          -0.6350277662277222
         ],
         "z": [
          -0.1642972230911255,
          -0.13606420159339905
         ]
        },
        {
         "line": {
          "color": "blue",
          "width": 2
         },
         "mode": "lines",
         "name": "reye_to_rear",
         "type": "scatter3d",
         "x": [
          0.4258827865123749,
          0.33514174818992615
         ],
         "y": [
          -0.631396472454071,
          -0.6796277761459351
         ],
         "z": [
          -0.1993776261806488,
          -0.21642181277275085
         ]
        },
        {
         "line": {
          "color": "blue",
          "width": 2
         },
         "mode": "lines",
         "name": "leye_to_lear",
         "type": "scatter3d",
         "x": [
          0.44732001423835754,
          0.3817982077598572
         ],
         "y": [
          -0.6350277662277222,
          -0.6876757740974426
         ],
         "z": [
          -0.13606420159339905,
          -0.07631441205739975
         ]
        },
        {
         "line": {
          "color": "blue",
          "width": 2
         },
         "mode": "lines",
         "name": "lankle_to_lbigtoe",
         "type": "scatter3d",
         "x": [
          0.07458969950675964,
          0.25306472182273865
         ],
         "y": [
          0.6006845831871033,
          0.687856912612915
         ],
         "z": [
          0.34403717517852783,
          0.2935088574886322
         ]
        },
        {
         "line": {
          "color": "blue",
          "width": 2
         },
         "mode": "lines",
         "name": "lankle_to_lsmalltoe",
         "type": "scatter3d",
         "x": [
          0.07458969950675964,
          0.23225605487823486
         ],
         "y": [
          0.6006845831871033,
          0.6676012277603149
         ],
         "z": [
          0.34403717517852783,
          0.37227174639701843
         ]
        },
        {
         "line": {
          "color": "blue",
          "width": 2
         },
         "mode": "lines",
         "name": "lankle_to_lheel",
         "type": "scatter3d",
         "x": [
          0.07458969950675964,
          0.02038203552365303
         ],
         "y": [
          0.6006845831871033,
          0.6250004768371582
         ],
         "z": [
          0.34403717517852783,
          0.38096916675567627
         ]
        },
        {
         "line": {
          "color": "blue",
          "width": 2
         },
         "mode": "lines",
         "name": "rankle_to_rbigtoe",
         "type": "scatter3d",
         "x": [
          -0.09113970398902893,
          0.07721041142940521
         ],
         "y": [
          0.6656129360198975,
          0.7566573619842529
         ],
         "z": [
          -0.029097475111484528,
          -0.10601285845041275
         ]
        },
        {
         "line": {
          "color": "blue",
          "width": 2
         },
         "mode": "lines",
         "name": "rankle_to_rsmalltoe",
         "type": "scatter3d",
         "x": [
          -0.09113970398902893,
          -0.00157204270362854
         ],
         "y": [
          0.6656129360198975,
          0.7569655179977417
         ],
         "z": [
          -0.029097475111484528,
          -0.14520329236984253
         ]
        },
        {
         "line": {
          "color": "blue",
          "width": 2
         },
         "mode": "lines",
         "name": "rankle_to_rheel",
         "type": "scatter3d",
         "x": [
          -0.09113970398902893,
          -0.15061742067337036
         ],
         "y": [
          0.6656129360198975,
          0.6996272802352905
         ],
         "z": [
          -0.029097475111484528,
          -0.0009839758276939392
         ]
        }
       ],
       "layout": {
        "scene": {
         "xaxis": {
          "title": {
           "text": "X"
          }
         },
         "yaxis": {
          "title": {
           "text": "Y"
          }
         },
         "zaxis": {
          "title": {
           "text": "Z"
          }
         }
        },
        "template": {
         "data": {
          "bar": [
           {
            "error_x": {
             "color": "#2a3f5f"
            },
            "error_y": {
             "color": "#2a3f5f"
            },
            "marker": {
             "line": {
              "color": "#E5ECF6",
              "width": 0.5
             },
             "pattern": {
              "fillmode": "overlay",
              "size": 10,
              "solidity": 0.2
             }
            },
            "type": "bar"
           }
          ],
          "barpolar": [
           {
            "marker": {
             "line": {
              "color": "#E5ECF6",
              "width": 0.5
             },
             "pattern": {
              "fillmode": "overlay",
              "size": 10,
              "solidity": 0.2
             }
            },
            "type": "barpolar"
           }
          ],
          "carpet": [
           {
            "aaxis": {
             "endlinecolor": "#2a3f5f",
             "gridcolor": "white",
             "linecolor": "white",
             "minorgridcolor": "white",
             "startlinecolor": "#2a3f5f"
            },
            "baxis": {
             "endlinecolor": "#2a3f5f",
             "gridcolor": "white",
             "linecolor": "white",
             "minorgridcolor": "white",
             "startlinecolor": "#2a3f5f"
            },
            "type": "carpet"
           }
          ],
          "choropleth": [
           {
            "colorbar": {
             "outlinewidth": 0,
             "ticks": ""
            },
            "type": "choropleth"
           }
          ],
          "contour": [
           {
            "colorbar": {
             "outlinewidth": 0,
             "ticks": ""
            },
            "colorscale": [
             [
              0,
              "#0d0887"
             ],
             [
              0.1111111111111111,
              "#46039f"
             ],
             [
              0.2222222222222222,
              "#7201a8"
             ],
             [
              0.3333333333333333,
              "#9c179e"
             ],
             [
              0.4444444444444444,
              "#bd3786"
             ],
             [
              0.5555555555555556,
              "#d8576b"
             ],
             [
              0.6666666666666666,
              "#ed7953"
             ],
             [
              0.7777777777777778,
              "#fb9f3a"
             ],
             [
              0.8888888888888888,
              "#fdca26"
             ],
             [
              1,
              "#f0f921"
             ]
            ],
            "type": "contour"
           }
          ],
          "contourcarpet": [
           {
            "colorbar": {
             "outlinewidth": 0,
             "ticks": ""
            },
            "type": "contourcarpet"
           }
          ],
          "heatmap": [
           {
            "colorbar": {
             "outlinewidth": 0,
             "ticks": ""
            },
            "colorscale": [
             [
              0,
              "#0d0887"
             ],
             [
              0.1111111111111111,
              "#46039f"
             ],
             [
              0.2222222222222222,
              "#7201a8"
             ],
             [
              0.3333333333333333,
              "#9c179e"
             ],
             [
              0.4444444444444444,
              "#bd3786"
             ],
             [
              0.5555555555555556,
              "#d8576b"
             ],
             [
              0.6666666666666666,
              "#ed7953"
             ],
             [
              0.7777777777777778,
              "#fb9f3a"
             ],
             [
              0.8888888888888888,
              "#fdca26"
             ],
             [
              1,
              "#f0f921"
             ]
            ],
            "type": "heatmap"
           }
          ],
          "heatmapgl": [
           {
            "colorbar": {
             "outlinewidth": 0,
             "ticks": ""
            },
            "colorscale": [
             [
              0,
              "#0d0887"
             ],
             [
              0.1111111111111111,
              "#46039f"
             ],
             [
              0.2222222222222222,
              "#7201a8"
             ],
             [
              0.3333333333333333,
              "#9c179e"
             ],
             [
              0.4444444444444444,
              "#bd3786"
             ],
             [
              0.5555555555555556,
              "#d8576b"
             ],
             [
              0.6666666666666666,
              "#ed7953"
             ],
             [
              0.7777777777777778,
              "#fb9f3a"
             ],
             [
              0.8888888888888888,
              "#fdca26"
             ],
             [
              1,
              "#f0f921"
             ]
            ],
            "type": "heatmapgl"
           }
          ],
          "histogram": [
           {
            "marker": {
             "pattern": {
              "fillmode": "overlay",
              "size": 10,
              "solidity": 0.2
             }
            },
            "type": "histogram"
           }
          ],
          "histogram2d": [
           {
            "colorbar": {
             "outlinewidth": 0,
             "ticks": ""
            },
            "colorscale": [
             [
              0,
              "#0d0887"
             ],
             [
              0.1111111111111111,
              "#46039f"
             ],
             [
              0.2222222222222222,
              "#7201a8"
             ],
             [
              0.3333333333333333,
              "#9c179e"
             ],
             [
              0.4444444444444444,
              "#bd3786"
             ],
             [
              0.5555555555555556,
              "#d8576b"
             ],
             [
              0.6666666666666666,
              "#ed7953"
             ],
             [
              0.7777777777777778,
              "#fb9f3a"
             ],
             [
              0.8888888888888888,
              "#fdca26"
             ],
             [
              1,
              "#f0f921"
             ]
            ],
            "type": "histogram2d"
           }
          ],
          "histogram2dcontour": [
           {
            "colorbar": {
             "outlinewidth": 0,
             "ticks": ""
            },
            "colorscale": [
             [
              0,
              "#0d0887"
             ],
             [
              0.1111111111111111,
              "#46039f"
             ],
             [
              0.2222222222222222,
              "#7201a8"
             ],
             [
              0.3333333333333333,
              "#9c179e"
             ],
             [
              0.4444444444444444,
              "#bd3786"
             ],
             [
              0.5555555555555556,
              "#d8576b"
             ],
             [
              0.6666666666666666,
              "#ed7953"
             ],
             [
              0.7777777777777778,
              "#fb9f3a"
             ],
             [
              0.8888888888888888,
              "#fdca26"
             ],
             [
              1,
              "#f0f921"
             ]
            ],
            "type": "histogram2dcontour"
           }
          ],
          "mesh3d": [
           {
            "colorbar": {
             "outlinewidth": 0,
             "ticks": ""
            },
            "type": "mesh3d"
           }
          ],
          "parcoords": [
           {
            "line": {
             "colorbar": {
              "outlinewidth": 0,
              "ticks": ""
             }
            },
            "type": "parcoords"
           }
          ],
          "pie": [
           {
            "automargin": true,
            "type": "pie"
           }
          ],
          "scatter": [
           {
            "fillpattern": {
             "fillmode": "overlay",
             "size": 10,
             "solidity": 0.2
            },
            "type": "scatter"
           }
          ],
          "scatter3d": [
           {
            "line": {
             "colorbar": {
              "outlinewidth": 0,
              "ticks": ""
             }
            },
            "marker": {
             "colorbar": {
              "outlinewidth": 0,
              "ticks": ""
             }
            },
            "type": "scatter3d"
           }
          ],
          "scattercarpet": [
           {
            "marker": {
             "colorbar": {
              "outlinewidth": 0,
              "ticks": ""
             }
            },
            "type": "scattercarpet"
           }
          ],
          "scattergeo": [
           {
            "marker": {
             "colorbar": {
              "outlinewidth": 0,
              "ticks": ""
             }
            },
            "type": "scattergeo"
           }
          ],
          "scattergl": [
           {
            "marker": {
             "colorbar": {
              "outlinewidth": 0,
              "ticks": ""
             }
            },
            "type": "scattergl"
           }
          ],
          "scattermapbox": [
           {
            "marker": {
             "colorbar": {
              "outlinewidth": 0,
              "ticks": ""
             }
            },
            "type": "scattermapbox"
           }
          ],
          "scatterpolar": [
           {
            "marker": {
             "colorbar": {
              "outlinewidth": 0,
              "ticks": ""
             }
            },
            "type": "scatterpolar"
           }
          ],
          "scatterpolargl": [
           {
            "marker": {
             "colorbar": {
              "outlinewidth": 0,
              "ticks": ""
             }
            },
            "type": "scatterpolargl"
           }
          ],
          "scatterternary": [
           {
            "marker": {
             "colorbar": {
              "outlinewidth": 0,
              "ticks": ""
             }
            },
            "type": "scatterternary"
           }
          ],
          "surface": [
           {
            "colorbar": {
             "outlinewidth": 0,
             "ticks": ""
            },
            "colorscale": [
             [
              0,
              "#0d0887"
             ],
             [
              0.1111111111111111,
              "#46039f"
             ],
             [
              0.2222222222222222,
              "#7201a8"
             ],
             [
              0.3333333333333333,
              "#9c179e"
             ],
             [
              0.4444444444444444,
              "#bd3786"
             ],
             [
              0.5555555555555556,
              "#d8576b"
             ],
             [
              0.6666666666666666,
              "#ed7953"
             ],
             [
              0.7777777777777778,
              "#fb9f3a"
             ],
             [
              0.8888888888888888,
              "#fdca26"
             ],
             [
              1,
              "#f0f921"
             ]
            ],
            "type": "surface"
           }
          ],
          "table": [
           {
            "cells": {
             "fill": {
              "color": "#EBF0F8"
             },
             "line": {
              "color": "white"
             }
            },
            "header": {
             "fill": {
              "color": "#C8D4E3"
             },
             "line": {
              "color": "white"
             }
            },
            "type": "table"
           }
          ]
         },
         "layout": {
          "annotationdefaults": {
           "arrowcolor": "#2a3f5f",
           "arrowhead": 0,
           "arrowwidth": 1
          },
          "autotypenumbers": "strict",
          "coloraxis": {
           "colorbar": {
            "outlinewidth": 0,
            "ticks": ""
           }
          },
          "colorscale": {
           "diverging": [
            [
             0,
             "#8e0152"
            ],
            [
             0.1,
             "#c51b7d"
            ],
            [
             0.2,
             "#de77ae"
            ],
            [
             0.3,
             "#f1b6da"
            ],
            [
             0.4,
             "#fde0ef"
            ],
            [
             0.5,
             "#f7f7f7"
            ],
            [
             0.6,
             "#e6f5d0"
            ],
            [
             0.7,
             "#b8e186"
            ],
            [
             0.8,
             "#7fbc41"
            ],
            [
             0.9,
             "#4d9221"
            ],
            [
             1,
             "#276419"
            ]
           ],
           "sequential": [
            [
             0,
             "#0d0887"
            ],
            [
             0.1111111111111111,
             "#46039f"
            ],
            [
             0.2222222222222222,
             "#7201a8"
            ],
            [
             0.3333333333333333,
             "#9c179e"
            ],
            [
             0.4444444444444444,
             "#bd3786"
            ],
            [
             0.5555555555555556,
             "#d8576b"
            ],
            [
             0.6666666666666666,
             "#ed7953"
            ],
            [
             0.7777777777777778,
             "#fb9f3a"
            ],
            [
             0.8888888888888888,
             "#fdca26"
            ],
            [
             1,
             "#f0f921"
            ]
           ],
           "sequentialminus": [
            [
             0,
             "#0d0887"
            ],
            [
             0.1111111111111111,
             "#46039f"
            ],
            [
             0.2222222222222222,
             "#7201a8"
            ],
            [
             0.3333333333333333,
             "#9c179e"
            ],
            [
             0.4444444444444444,
             "#bd3786"
            ],
            [
             0.5555555555555556,
             "#d8576b"
            ],
            [
             0.6666666666666666,
             "#ed7953"
            ],
            [
             0.7777777777777778,
             "#fb9f3a"
            ],
            [
             0.8888888888888888,
             "#fdca26"
            ],
            [
             1,
             "#f0f921"
            ]
           ]
          },
          "colorway": [
           "#636efa",
           "#EF553B",
           "#00cc96",
           "#ab63fa",
           "#FFA15A",
           "#19d3f3",
           "#FF6692",
           "#B6E880",
           "#FF97FF",
           "#FECB52"
          ],
          "font": {
           "color": "#2a3f5f"
          },
          "geo": {
           "bgcolor": "white",
           "lakecolor": "white",
           "landcolor": "#E5ECF6",
           "showlakes": true,
           "showland": true,
           "subunitcolor": "white"
          },
          "hoverlabel": {
           "align": "left"
          },
          "hovermode": "closest",
          "mapbox": {
           "style": "light"
          },
          "paper_bgcolor": "white",
          "plot_bgcolor": "#E5ECF6",
          "polar": {
           "angularaxis": {
            "gridcolor": "white",
            "linecolor": "white",
            "ticks": ""
           },
           "bgcolor": "#E5ECF6",
           "radialaxis": {
            "gridcolor": "white",
            "linecolor": "white",
            "ticks": ""
           }
          },
          "scene": {
           "xaxis": {
            "backgroundcolor": "#E5ECF6",
            "gridcolor": "white",
            "gridwidth": 2,
            "linecolor": "white",
            "showbackground": true,
            "ticks": "",
            "zerolinecolor": "white"
           },
           "yaxis": {
            "backgroundcolor": "#E5ECF6",
            "gridcolor": "white",
            "gridwidth": 2,
            "linecolor": "white",
            "showbackground": true,
            "ticks": "",
            "zerolinecolor": "white"
           },
           "zaxis": {
            "backgroundcolor": "#E5ECF6",
            "gridcolor": "white",
            "gridwidth": 2,
            "linecolor": "white",
            "showbackground": true,
            "ticks": "",
            "zerolinecolor": "white"
           }
          },
          "shapedefaults": {
           "line": {
            "color": "#2a3f5f"
           }
          },
          "ternary": {
           "aaxis": {
            "gridcolor": "white",
            "linecolor": "white",
            "ticks": ""
           },
           "baxis": {
            "gridcolor": "white",
            "linecolor": "white",
            "ticks": ""
           },
           "bgcolor": "#E5ECF6",
           "caxis": {
            "gridcolor": "white",
            "linecolor": "white",
            "ticks": ""
           }
          },
          "title": {
           "x": 0.05
          },
          "xaxis": {
           "automargin": true,
           "gridcolor": "white",
           "linecolor": "white",
           "ticks": "",
           "title": {
            "standoff": 15
           },
           "zerolinecolor": "white",
           "zerolinewidth": 2
          },
          "yaxis": {
           "automargin": true,
           "gridcolor": "white",
           "linecolor": "white",
           "ticks": "",
           "title": {
            "standoff": 15
           },
           "zerolinecolor": "white",
           "zerolinewidth": 2
          }
         }
        }
       }
      }
     },
     "metadata": {},
     "output_type": "display_data"
    }
   ],
   "source": [
    "import plotly.graph_objects as go\n",
    "\n",
    "BONE_CONNECTIONS = {\n",
    "    'nose_to_neck': [0, 1],\n",
    "    'neck_to_rshoulder': [1, 2],\n",
    "    'rshoulder_to_relbow': [2, 3],\n",
    "    'relbow_to_rwrist': [3, 4],\n",
    "    'neck_to_lshoulder': [1, 5],\n",
    "    'lshoulder_to_lelbow': [5, 6],\n",
    "    'lelbow_to_lwrist': [6, 7],\n",
    "    'neck_to_midhip': [1, 8],\n",
    "    'midhip_to_rhip': [8, 9],\n",
    "    'rhip_to_rknee': [9, 10],\n",
    "    'rknee_to_rankle': [10, 11],\n",
    "    'midhip_to_lhip': [8, 12],\n",
    "    'lhip_to_lknee': [12, 13],\n",
    "    'lknee_to_lankle': [13, 14],\n",
    "    'nose_to_reye': [0, 15],\n",
    "    'nose_to_leye': [0, 16],\n",
    "    'reye_to_rear': [15, 17],\n",
    "    'leye_to_lear': [16, 18],\n",
    "    'lankle_to_lbigtoe': [14, 19],\n",
    "    'lankle_to_lsmalltoe': [14, 20],\n",
    "    'lankle_to_lheel': [14, 21],\n",
    "    'rankle_to_rbigtoe': [11, 22],\n",
    "    'rankle_to_rsmalltoe': [11, 23],\n",
    "    'rankle_to_rheel': [11, 24],\n",
    "}\n",
    "\n",
    "# Extract the 3D joint coordinates\n",
    "joints_3d = joints[0][:25]\n",
    "\n",
    "# Create a 3D scatter plot\n",
    "print(joints_3d)\n",
    "print(len(joints_3d))\n",
    "x_coords = [joint[0] for joint in joints_3d]\n",
    "y_coords = [joint[1] for joint in joints_3d]\n",
    "z_coords = [joint[2] for joint in joints_3d]\n",
    "# x_coords = [1, 2, 3]\n",
    "# y_coords = [4, 5, 6]\n",
    "# z_coords = [7, 8, 9]\n",
    "\n",
    "print(x_coords, y_coords, z_coords)\n",
    "fig = go.Figure(data=[go.Scatter3d(\n",
    "    x=x_coords,\n",
    "    y=y_coords,\n",
    "    z=z_coords,\n",
    "    mode='markers',\n",
    "    marker=dict(\n",
    "        size=5,\n",
    "        color=['blue' if i == 44 else 'red' for i in range(len(joints_3d))],  # Color the 45th joint in blue\n",
    "    )\n",
    ")])\n",
    "\n",
    "# Add lines for each bone defined in BONE_CONNECTIONS\n",
    "for bone_name, (start_joint, end_joint) in BONE_CONNECTIONS.items():\n",
    "    fig.add_trace(go.Scatter3d(\n",
    "        x=[joints_3d[start_joint][0], joints_3d[end_joint][0]],\n",
    "        y=[joints_3d[start_joint][1], joints_3d[end_joint][1]],\n",
    "        z=[joints_3d[start_joint][2], joints_3d[end_joint][2]],\n",
    "        mode='lines',\n",
    "        line=dict(color='blue', width=2),\n",
    "        name=bone_name\n",
    "    ))\n",
    "\n",
    "\n",
    "\n",
    "# Set labels\n",
    "fig.update_layout(\n",
    "    scene=dict(\n",
    "        xaxis_title='X',\n",
    "        yaxis_title='Y',\n",
    "        zaxis_title='Z'\n",
    "    )\n",
    ")\n",
    "\n",
    "# Show the plot\n",
    "fig.show()\n"
   ]
  },
  {
   "cell_type": "code",
   "execution_count": 12,
   "metadata": {},
   "outputs": [
    {
     "name": "stdout",
     "output_type": "stream",
     "text": [
      "45\n"
     ]
    }
   ],
   "source": [
    "JOINT_NAMES = [\n",
    "# 25 OpenPose joints (in the order provided by OpenPose)\n",
    "'OP Nose',\n",
    "'OP Neck',\n",
    "'OP RShoulder',\n",
    "'OP RElbow',\n",
    "'OP RWrist',\n",
    "'OP LShoulder',\n",
    "'OP LElbow',\n",
    "'OP LWrist',\n",
    "'OP MidHip',\n",
    "'OP RHip',\n",
    "'OP RKnee',\n",
    "'OP RAnkle',\n",
    "'OP LHip',\n",
    "'OP LKnee',\n",
    "'OP LAnkle',\n",
    "'OP REye',\n",
    "'OP LEye',\n",
    "'OP REar',\n",
    "'OP LEar',\n",
    "'OP LBigToe',\n",
    "'OP LSmallToe',\n",
    "'OP LHeel',\n",
    "'OP RBigToe',\n",
    "'OP RSmallToe',\n",
    "'OP RHeel',\n",
    "# 24 Ground Truth joints (superset of joints from different datasets)\n",
    "'Right Ankle',\n",
    "'Right Knee',\n",
    "'Right Hip',\n",
    "'Left Hip',\n",
    "'Left Knee',\n",
    "'Left Ankle',\n",
    "'Right Wrist',\n",
    "'Right Elbow',\n",
    "'Right Shoulder',\n",
    "'Left Shoulder',\n",
    "'Left Elbow',\n",
    "'Left Wrist',\n",
    "'Neck (LSP)',\n",
    "'Top of Head (LSP)',\n",
    "'Pelvis (MPII)',\n",
    "'Thorax (MPII)',\n",
    "'Spine (H36M)',\n",
    "'Jaw (H36M)',\n",
    "'Head (H36M)',\n",
    "'ROOT'\n",
    "]\n",
    "print(len(JOINT_NAMES))"
   ]
  },
  {
   "cell_type": "code",
   "execution_count": null,
   "metadata": {},
   "outputs": [],
   "source": []
  }
 ],
 "metadata": {
  "kernelspec": {
   "display_name": "4D-humans",
   "language": "python",
   "name": "python3"
  },
  "language_info": {
   "codemirror_mode": {
    "name": "ipython",
    "version": 3
   },
   "file_extension": ".py",
   "mimetype": "text/x-python",
   "name": "python",
   "nbconvert_exporter": "python",
   "pygments_lexer": "ipython3",
   "version": "3.10.15"
  }
 },
 "nbformat": 4,
 "nbformat_minor": 2
}
